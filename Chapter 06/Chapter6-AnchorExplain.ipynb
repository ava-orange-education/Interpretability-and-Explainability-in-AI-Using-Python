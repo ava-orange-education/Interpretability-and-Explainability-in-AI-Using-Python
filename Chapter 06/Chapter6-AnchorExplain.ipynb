{
 "cells": [
  {
   "cell_type": "markdown",
   "metadata": {},
   "source": [
    "## Chapter 6\n",
    "\n",
    "### Anchors and Counterfactual Explanations\n",
    "#### Here we will look at Anchors and Counterfactual Explanations as additional post hoc methods\n",
    "\n",
    "##### We will look at the explanations provided through these methods\n",
    "\n",
    "This notebook focusses on Anchors Explainability, we will running them on Random Forest Classifier models\n",
    "\n",
    "We use the iris dataset from sklearn <br>\n",
    "\n",
    "We are using the sklearn iris datasets. More details on the dataset can be found here <br>\n",
    "https://scikit-learn.org/1.0/auto_examples/datasets/plot_iris_dataset.html"
   ]
  },
  {
   "cell_type": "markdown",
   "metadata": {},
   "source": [
    "**Install required libraries**"
   ]
  },
  {
   "cell_type": "code",
   "execution_count": 1,
   "metadata": {},
   "outputs": [
    {
     "name": "stdout",
     "output_type": "stream",
     "text": [
      "Collecting alibi\n",
      "  Using cached alibi-0.9.6-py3-none-any.whl.metadata (22 kB)\n",
      "Collecting numpy<2.0.0,>=1.16.2 (from alibi)\n",
      "  Downloading numpy-1.26.4-cp312-cp312-win_amd64.whl.metadata (61 kB)\n",
      "Requirement already satisfied: pandas<3.0.0,>=1.0.0 in c:\\users\\achakkirala\\appdata\\local\\miniconda3\\lib\\site-packages (from alibi) (2.2.2)\n",
      "Requirement already satisfied: scikit-learn<2.0.0,>=1.0.0 in c:\\users\\achakkirala\\appdata\\local\\miniconda3\\lib\\site-packages (from alibi) (1.5.0)\n",
      "Collecting spacy<4.0.0,>=2.0.0 (from spacy[lookups]<4.0.0,>=2.0.0->alibi)\n",
      "  Downloading spacy-3.8.3-cp312-cp312-win_amd64.whl.metadata (27 kB)\n",
      "Collecting blis<0.8.0 (from alibi)\n",
      "  Downloading blis-0.7.11-cp312-cp312-win_amd64.whl.metadata (7.6 kB)\n",
      "Collecting scikit-image<0.23,>=0.17.2 (from alibi)\n",
      "  Downloading scikit_image-0.22.0-cp312-cp312-win_amd64.whl.metadata (13 kB)\n",
      "Requirement already satisfied: requests<3.0.0,>=2.21.0 in c:\\users\\achakkirala\\appdata\\local\\miniconda3\\lib\\site-packages (from alibi) (2.32.3)\n",
      "Collecting Pillow<11.0,>=5.4.1 (from alibi)\n",
      "  Downloading pillow-10.4.0-cp312-cp312-win_amd64.whl.metadata (9.3 kB)\n",
      "Collecting attrs<24.0.0,>=19.2.0 (from alibi)\n",
      "  Downloading attrs-23.2.0-py3-none-any.whl.metadata (9.5 kB)\n",
      "Requirement already satisfied: scipy<2.0.0,>=1.1.0 in c:\\users\\achakkirala\\appdata\\local\\miniconda3\\lib\\site-packages (from alibi) (1.13.1)\n",
      "Requirement already satisfied: matplotlib<4.0.0,>=3.0.0 in c:\\users\\achakkirala\\appdata\\local\\miniconda3\\lib\\site-packages (from alibi) (3.10.0)\n",
      "Requirement already satisfied: typing-extensions>=3.7.4.3 in c:\\users\\achakkirala\\appdata\\local\\miniconda3\\lib\\site-packages (from alibi) (4.12.2)\n",
      "Requirement already satisfied: dill<0.4.0,>=0.3.0 in c:\\users\\achakkirala\\appdata\\local\\miniconda3\\lib\\site-packages (from alibi) (0.3.8)\n",
      "Collecting transformers<5.0.0,>=4.7.0 (from alibi)\n",
      "  Downloading transformers-4.47.1-py3-none-any.whl.metadata (44 kB)\n",
      "Requirement already satisfied: tqdm<5.0.0,>=4.28.1 in c:\\users\\achakkirala\\appdata\\local\\miniconda3\\lib\\site-packages (from alibi) (4.67.1)\n",
      "Requirement already satisfied: contourpy>=1.0.1 in c:\\users\\achakkirala\\appdata\\local\\miniconda3\\lib\\site-packages (from matplotlib<4.0.0,>=3.0.0->alibi) (1.3.1)\n",
      "Requirement already satisfied: cycler>=0.10 in c:\\users\\achakkirala\\appdata\\local\\miniconda3\\lib\\site-packages (from matplotlib<4.0.0,>=3.0.0->alibi) (0.12.1)\n",
      "Requirement already satisfied: fonttools>=4.22.0 in c:\\users\\achakkirala\\appdata\\local\\miniconda3\\lib\\site-packages (from matplotlib<4.0.0,>=3.0.0->alibi) (4.55.3)\n",
      "Requirement already satisfied: kiwisolver>=1.3.1 in c:\\users\\achakkirala\\appdata\\local\\miniconda3\\lib\\site-packages (from matplotlib<4.0.0,>=3.0.0->alibi) (1.4.8)\n",
      "Requirement already satisfied: packaging>=20.0 in c:\\users\\achakkirala\\appdata\\local\\miniconda3\\lib\\site-packages (from matplotlib<4.0.0,>=3.0.0->alibi) (23.2)\n",
      "Requirement already satisfied: pyparsing>=2.3.1 in c:\\users\\achakkirala\\appdata\\local\\miniconda3\\lib\\site-packages (from matplotlib<4.0.0,>=3.0.0->alibi) (3.2.0)\n",
      "Requirement already satisfied: python-dateutil>=2.7 in c:\\users\\achakkirala\\appdata\\local\\miniconda3\\lib\\site-packages (from matplotlib<4.0.0,>=3.0.0->alibi) (2.9.0.post0)\n",
      "Requirement already satisfied: pytz>=2020.1 in c:\\users\\achakkirala\\appdata\\local\\miniconda3\\lib\\site-packages (from pandas<3.0.0,>=1.0.0->alibi) (2024.1)\n",
      "Requirement already satisfied: tzdata>=2022.7 in c:\\users\\achakkirala\\appdata\\local\\miniconda3\\lib\\site-packages (from pandas<3.0.0,>=1.0.0->alibi) (2024.1)\n",
      "Requirement already satisfied: charset-normalizer<4,>=2 in c:\\users\\achakkirala\\appdata\\local\\miniconda3\\lib\\site-packages (from requests<3.0.0,>=2.21.0->alibi) (2.0.4)\n",
      "Requirement already satisfied: idna<4,>=2.5 in c:\\users\\achakkirala\\appdata\\local\\miniconda3\\lib\\site-packages (from requests<3.0.0,>=2.21.0->alibi) (3.4)\n",
      "Requirement already satisfied: urllib3<3,>=1.21.1 in c:\\users\\achakkirala\\appdata\\local\\miniconda3\\lib\\site-packages (from requests<3.0.0,>=2.21.0->alibi) (2.1.0)\n",
      "Requirement already satisfied: certifi>=2017.4.17 in c:\\users\\achakkirala\\appdata\\local\\miniconda3\\lib\\site-packages (from requests<3.0.0,>=2.21.0->alibi) (2024.12.14)\n",
      "Requirement already satisfied: networkx>=2.8 in c:\\users\\achakkirala\\appdata\\local\\miniconda3\\lib\\site-packages (from scikit-image<0.23,>=0.17.2->alibi) (3.4.2)\n",
      "Requirement already satisfied: imageio>=2.27 in c:\\users\\achakkirala\\appdata\\local\\miniconda3\\lib\\site-packages (from scikit-image<0.23,>=0.17.2->alibi) (2.36.1)\n",
      "Requirement already satisfied: tifffile>=2022.8.12 in c:\\users\\achakkirala\\appdata\\local\\miniconda3\\lib\\site-packages (from scikit-image<0.23,>=0.17.2->alibi) (2024.12.12)\n",
      "Requirement already satisfied: lazy_loader>=0.3 in c:\\users\\achakkirala\\appdata\\local\\miniconda3\\lib\\site-packages (from scikit-image<0.23,>=0.17.2->alibi) (0.4)\n",
      "Requirement already satisfied: joblib>=1.2.0 in c:\\users\\achakkirala\\appdata\\local\\miniconda3\\lib\\site-packages (from scikit-learn<2.0.0,>=1.0.0->alibi) (1.4.2)\n",
      "Requirement already satisfied: threadpoolctl>=3.1.0 in c:\\users\\achakkirala\\appdata\\local\\miniconda3\\lib\\site-packages (from scikit-learn<2.0.0,>=1.0.0->alibi) (3.5.0)\n",
      "Collecting spacy-legacy<3.1.0,>=3.0.11 (from spacy<4.0.0,>=2.0.0->spacy[lookups]<4.0.0,>=2.0.0->alibi)\n",
      "  Using cached spacy_legacy-3.0.12-py2.py3-none-any.whl.metadata (2.8 kB)\n",
      "Collecting spacy-loggers<2.0.0,>=1.0.0 (from spacy<4.0.0,>=2.0.0->spacy[lookups]<4.0.0,>=2.0.0->alibi)\n",
      "  Using cached spacy_loggers-1.0.5-py3-none-any.whl.metadata (23 kB)\n",
      "Collecting murmurhash<1.1.0,>=0.28.0 (from spacy<4.0.0,>=2.0.0->spacy[lookups]<4.0.0,>=2.0.0->alibi)\n",
      "  Downloading murmurhash-1.0.11-cp312-cp312-win_amd64.whl.metadata (2.0 kB)\n",
      "Collecting cymem<2.1.0,>=2.0.2 (from spacy<4.0.0,>=2.0.0->spacy[lookups]<4.0.0,>=2.0.0->alibi)\n",
      "  Downloading cymem-2.0.10-cp312-cp312-win_amd64.whl.metadata (8.6 kB)\n",
      "Collecting preshed<3.1.0,>=3.0.2 (from spacy<4.0.0,>=2.0.0->spacy[lookups]<4.0.0,>=2.0.0->alibi)\n",
      "  Downloading preshed-3.0.9-cp312-cp312-win_amd64.whl.metadata (2.2 kB)\n",
      "Collecting thinc<8.4.0,>=8.3.0 (from spacy<4.0.0,>=2.0.0->spacy[lookups]<4.0.0,>=2.0.0->alibi)\n",
      "  Downloading thinc-8.3.3-cp312-cp312-win_amd64.whl.metadata (15 kB)\n",
      "Collecting wasabi<1.2.0,>=0.9.1 (from spacy<4.0.0,>=2.0.0->spacy[lookups]<4.0.0,>=2.0.0->alibi)\n",
      "  Using cached wasabi-1.1.3-py3-none-any.whl.metadata (28 kB)\n",
      "Collecting srsly<3.0.0,>=2.4.3 (from spacy<4.0.0,>=2.0.0->spacy[lookups]<4.0.0,>=2.0.0->alibi)\n",
      "  Downloading srsly-2.5.0-cp312-cp312-win_amd64.whl.metadata (20 kB)\n",
      "Collecting catalogue<2.1.0,>=2.0.6 (from spacy<4.0.0,>=2.0.0->spacy[lookups]<4.0.0,>=2.0.0->alibi)\n",
      "  Using cached catalogue-2.0.10-py3-none-any.whl.metadata (14 kB)\n",
      "Collecting weasel<0.5.0,>=0.1.0 (from spacy<4.0.0,>=2.0.0->spacy[lookups]<4.0.0,>=2.0.0->alibi)\n",
      "  Using cached weasel-0.4.1-py3-none-any.whl.metadata (4.6 kB)\n",
      "Collecting typer<1.0.0,>=0.3.0 (from spacy<4.0.0,>=2.0.0->spacy[lookups]<4.0.0,>=2.0.0->alibi)\n",
      "  Downloading typer-0.15.1-py3-none-any.whl.metadata (15 kB)\n",
      "Collecting pydantic!=1.8,!=1.8.1,<3.0.0,>=1.7.4 (from spacy<4.0.0,>=2.0.0->spacy[lookups]<4.0.0,>=2.0.0->alibi)\n",
      "  Downloading pydantic-2.10.4-py3-none-any.whl.metadata (29 kB)\n",
      "Requirement already satisfied: jinja2 in c:\\users\\achakkirala\\appdata\\local\\miniconda3\\lib\\site-packages (from spacy<4.0.0,>=2.0.0->spacy[lookups]<4.0.0,>=2.0.0->alibi) (3.1.5)\n",
      "Requirement already satisfied: setuptools in c:\\users\\achakkirala\\appdata\\local\\miniconda3\\lib\\site-packages (from spacy<4.0.0,>=2.0.0->spacy[lookups]<4.0.0,>=2.0.0->alibi) (68.2.2)\n",
      "Collecting langcodes<4.0.0,>=3.2.0 (from spacy<4.0.0,>=2.0.0->spacy[lookups]<4.0.0,>=2.0.0->alibi)\n",
      "  Downloading langcodes-3.5.0-py3-none-any.whl.metadata (29 kB)\n",
      "Collecting spacy_lookups_data<1.1.0,>=1.0.3 (from spacy[lookups]<4.0.0,>=2.0.0->alibi)\n",
      "  Using cached spacy_lookups_data-1.0.5-py2.py3-none-any.whl.metadata (4.8 kB)\n",
      "Requirement already satisfied: colorama in c:\\users\\achakkirala\\appdata\\local\\miniconda3\\lib\\site-packages (from tqdm<5.0.0,>=4.28.1->alibi) (0.4.6)\n",
      "Requirement already satisfied: filelock in c:\\users\\achakkirala\\appdata\\local\\miniconda3\\lib\\site-packages (from transformers<5.0.0,>=4.7.0->alibi) (3.16.1)\n",
      "Requirement already satisfied: huggingface-hub<1.0,>=0.24.0 in c:\\users\\achakkirala\\appdata\\local\\miniconda3\\lib\\site-packages (from transformers<5.0.0,>=4.7.0->alibi) (0.27.0)\n",
      "Requirement already satisfied: pyyaml>=5.1 in c:\\users\\achakkirala\\appdata\\local\\miniconda3\\lib\\site-packages (from transformers<5.0.0,>=4.7.0->alibi) (6.0.2)\n",
      "Collecting regex!=2019.12.17 (from transformers<5.0.0,>=4.7.0->alibi)\n",
      "  Downloading regex-2024.11.6-cp312-cp312-win_amd64.whl.metadata (41 kB)\n",
      "Collecting tokenizers<0.22,>=0.21 (from transformers<5.0.0,>=4.7.0->alibi)\n",
      "  Downloading tokenizers-0.21.0-cp39-abi3-win_amd64.whl.metadata (6.9 kB)\n",
      "Collecting safetensors>=0.4.1 (from transformers<5.0.0,>=4.7.0->alibi)\n",
      "  Downloading safetensors-0.5.1-cp38-abi3-win_amd64.whl.metadata (3.9 kB)\n",
      "Requirement already satisfied: fsspec>=2023.5.0 in c:\\users\\achakkirala\\appdata\\local\\miniconda3\\lib\\site-packages (from huggingface-hub<1.0,>=0.24.0->transformers<5.0.0,>=4.7.0->alibi) (2024.9.0)\n",
      "Collecting language-data>=1.2 (from langcodes<4.0.0,>=3.2.0->spacy<4.0.0,>=2.0.0->spacy[lookups]<4.0.0,>=2.0.0->alibi)\n",
      "  Downloading language_data-1.3.0-py3-none-any.whl.metadata (4.3 kB)\n",
      "Collecting annotated-types>=0.6.0 (from pydantic!=1.8,!=1.8.1,<3.0.0,>=1.7.4->spacy<4.0.0,>=2.0.0->spacy[lookups]<4.0.0,>=2.0.0->alibi)\n",
      "  Using cached annotated_types-0.7.0-py3-none-any.whl.metadata (15 kB)\n",
      "Collecting pydantic-core==2.27.2 (from pydantic!=1.8,!=1.8.1,<3.0.0,>=1.7.4->spacy<4.0.0,>=2.0.0->spacy[lookups]<4.0.0,>=2.0.0->alibi)\n",
      "  Downloading pydantic_core-2.27.2-cp312-cp312-win_amd64.whl.metadata (6.7 kB)\n",
      "Requirement already satisfied: six>=1.5 in c:\\users\\achakkirala\\appdata\\local\\miniconda3\\lib\\site-packages (from python-dateutil>=2.7->matplotlib<4.0.0,>=3.0.0->alibi) (1.16.0)\n",
      "INFO: pip is looking at multiple versions of thinc to determine which version is compatible with other requirements. This could take a while.\n",
      "Collecting thinc<8.4.0,>=8.3.0 (from spacy<4.0.0,>=2.0.0->spacy[lookups]<4.0.0,>=2.0.0->alibi)\n",
      "  Downloading thinc-8.3.2-cp312-cp312-win_amd64.whl.metadata (15 kB)\n",
      "  Downloading thinc-8.3.1-cp312-cp312-win_amd64.whl.metadata (15 kB)\n",
      "  Downloading thinc-8.3.0-cp312-cp312-win_amd64.whl.metadata (15 kB)\n",
      "Collecting spacy[lookups]<4.0.0,>=2.0.0 (from alibi)\n",
      "  Downloading spacy-3.8.2-cp312-cp312-win_amd64.whl.metadata (27 kB)\n",
      "INFO: pip is still looking at multiple versions of thinc to determine which version is compatible with other requirements. This could take a while.\n",
      "Collecting spacy<4.0.0,>=2.0.0 (from spacy[lookups]<4.0.0,>=2.0.0->alibi)\n",
      "  Downloading spacy-3.7.5-cp312-cp312-win_amd64.whl.metadata (27 kB)\n",
      "Collecting thinc<8.3.0,>=8.2.2 (from spacy<4.0.0,>=2.0.0->spacy[lookups]<4.0.0,>=2.0.0->alibi)\n",
      "  Downloading thinc-8.2.5-cp312-cp312-win_amd64.whl.metadata (15 kB)\n",
      "Collecting confection<1.0.0,>=0.0.1 (from thinc<8.3.0,>=8.2.2->spacy<4.0.0,>=2.0.0->spacy[lookups]<4.0.0,>=2.0.0->alibi)\n",
      "  Using cached confection-0.1.5-py3-none-any.whl.metadata (19 kB)\n",
      "INFO: pip is looking at multiple versions of spacy[lookups] to determine which version is compatible with other requirements. This could take a while.\n",
      "Requirement already satisfied: click>=8.0.0 in c:\\users\\achakkirala\\appdata\\local\\miniconda3\\lib\\site-packages (from typer<1.0.0,>=0.3.0->spacy<4.0.0,>=2.0.0->spacy[lookups]<4.0.0,>=2.0.0->alibi) (8.1.8)\n",
      "Collecting shellingham>=1.3.0 (from typer<1.0.0,>=0.3.0->spacy<4.0.0,>=2.0.0->spacy[lookups]<4.0.0,>=2.0.0->alibi)\n",
      "  Using cached shellingham-1.5.4-py2.py3-none-any.whl.metadata (3.5 kB)\n",
      "Collecting rich>=10.11.0 (from typer<1.0.0,>=0.3.0->spacy<4.0.0,>=2.0.0->spacy[lookups]<4.0.0,>=2.0.0->alibi)\n",
      "  Downloading rich-13.9.4-py3-none-any.whl.metadata (18 kB)\n",
      "Collecting cloudpathlib<1.0.0,>=0.7.0 (from weasel<0.5.0,>=0.1.0->spacy<4.0.0,>=2.0.0->spacy[lookups]<4.0.0,>=2.0.0->alibi)\n",
      "  Downloading cloudpathlib-0.20.0-py3-none-any.whl.metadata (14 kB)\n",
      "Collecting smart-open<8.0.0,>=5.2.1 (from weasel<0.5.0,>=0.1.0->spacy<4.0.0,>=2.0.0->spacy[lookups]<4.0.0,>=2.0.0->alibi)\n",
      "  Downloading smart_open-7.1.0-py3-none-any.whl.metadata (24 kB)\n",
      "Requirement already satisfied: MarkupSafe>=2.0 in c:\\users\\achakkirala\\appdata\\local\\miniconda3\\lib\\site-packages (from jinja2->spacy<4.0.0,>=2.0.0->spacy[lookups]<4.0.0,>=2.0.0->alibi) (3.0.2)\n",
      "Collecting marisa-trie>=1.1.0 (from language-data>=1.2->langcodes<4.0.0,>=3.2.0->spacy<4.0.0,>=2.0.0->spacy[lookups]<4.0.0,>=2.0.0->alibi)\n",
      "  Downloading marisa_trie-1.2.1-cp312-cp312-win_amd64.whl.metadata (9.3 kB)\n",
      "Collecting markdown-it-py>=2.2.0 (from rich>=10.11.0->typer<1.0.0,>=0.3.0->spacy<4.0.0,>=2.0.0->spacy[lookups]<4.0.0,>=2.0.0->alibi)\n",
      "  Using cached markdown_it_py-3.0.0-py3-none-any.whl.metadata (6.9 kB)\n",
      "Requirement already satisfied: pygments<3.0.0,>=2.13.0 in c:\\users\\achakkirala\\appdata\\local\\miniconda3\\lib\\site-packages (from rich>=10.11.0->typer<1.0.0,>=0.3.0->spacy<4.0.0,>=2.0.0->spacy[lookups]<4.0.0,>=2.0.0->alibi) (2.18.0)\n",
      "Collecting wrapt (from smart-open<8.0.0,>=5.2.1->weasel<0.5.0,>=0.1.0->spacy<4.0.0,>=2.0.0->spacy[lookups]<4.0.0,>=2.0.0->alibi)\n",
      "  Downloading wrapt-1.17.0-cp312-cp312-win_amd64.whl.metadata (6.5 kB)\n",
      "Collecting mdurl~=0.1 (from markdown-it-py>=2.2.0->rich>=10.11.0->typer<1.0.0,>=0.3.0->spacy<4.0.0,>=2.0.0->spacy[lookups]<4.0.0,>=2.0.0->alibi)\n",
      "  Using cached mdurl-0.1.2-py3-none-any.whl.metadata (1.6 kB)\n",
      "Using cached alibi-0.9.6-py3-none-any.whl (522 kB)\n",
      "Downloading attrs-23.2.0-py3-none-any.whl (60 kB)\n",
      "Downloading blis-0.7.11-cp312-cp312-win_amd64.whl (6.6 MB)\n",
      "   ---------------------------------------- 0.0/6.6 MB ? eta -:--:--\n",
      "   ------------------------------------ --- 6.0/6.6 MB 40.9 MB/s eta 0:00:01\n",
      "   ---------------------------------------- 6.6/6.6 MB 23.9 MB/s eta 0:00:00\n",
      "Downloading numpy-1.26.4-cp312-cp312-win_amd64.whl (15.5 MB)\n",
      "   ---------------------------------------- 0.0/15.5 MB ? eta -:--:--\n",
      "   ------------ --------------------------- 5.0/15.5 MB 23.2 MB/s eta 0:00:01\n",
      "   ---------------------------------------  15.5/15.5 MB 37.4 MB/s eta 0:00:01\n",
      "   ---------------------------------------  15.5/15.5 MB 37.4 MB/s eta 0:00:01\n",
      "   ---------------------------------------- 15.5/15.5 MB 21.2 MB/s eta 0:00:00\n",
      "Downloading pillow-10.4.0-cp312-cp312-win_amd64.whl (2.6 MB)\n",
      "   ---------------------------------------- 0.0/2.6 MB ? eta -:--:--\n",
      "   ---------------------------------------- 2.6/2.6 MB 24.7 MB/s eta 0:00:00\n",
      "Downloading scikit_image-0.22.0-cp312-cp312-win_amd64.whl (25.0 MB)\n",
      "   ---------------------------------------- 0.0/25.0 MB ? eta -:--:--\n",
      "   - -------------------------------------- 1.0/25.0 MB 49.2 MB/s eta 0:00:01\n",
      "   - -------------------------------------- 1.0/25.0 MB 49.2 MB/s eta 0:00:01\n",
      "   - -------------------------------------- 1.0/25.0 MB 49.2 MB/s eta 0:00:01\n",
      "   - -------------------------------------- 1.0/25.0 MB 49.2 MB/s eta 0:00:01\n",
      "   - -------------------------------------- 1.0/25.0 MB 49.2 MB/s eta 0:00:01\n",
      "   - -------------------------------------- 1.0/25.0 MB 49.2 MB/s eta 0:00:01\n",
      "   - -------------------------------------- 1.0/25.0 MB 49.2 MB/s eta 0:00:01\n",
      "   - -------------------------------------- 1.0/25.0 MB 49.2 MB/s eta 0:00:01\n",
      "   ----------- ---------------------------- 7.3/25.0 MB 3.7 MB/s eta 0:00:05\n",
      "   ------------- -------------------------- 8.4/25.0 MB 4.2 MB/s eta 0:00:04\n",
      "   --------------- ------------------------ 9.4/25.0 MB 4.2 MB/s eta 0:00:04\n",
      "   ---------------- ----------------------- 10.5/25.0 MB 4.2 MB/s eta 0:00:04\n",
      "   ------------------ --------------------- 11.5/25.0 MB 4.1 MB/s eta 0:00:04\n",
      "   ----------------------- ---------------- 14.7/25.0 MB 5.1 MB/s eta 0:00:03\n",
      "   ------------------------- -------------- 15.7/25.0 MB 5.0 MB/s eta 0:00:02\n",
      "   -------------------------- ------------- 16.8/25.0 MB 5.0 MB/s eta 0:00:02\n",
      "   ---------------------------- ----------- 17.8/25.0 MB 4.9 MB/s eta 0:00:02\n",
      "   ---------------------------- ----------- 17.8/25.0 MB 4.9 MB/s eta 0:00:02\n",
      "   ---------------------------- ----------- 17.8/25.0 MB 4.9 MB/s eta 0:00:02\n",
      "   ----------------------------- ---------- 18.4/25.0 MB 4.2 MB/s eta 0:00:02\n",
      "   ------------------------------- -------- 19.9/25.0 MB 4.6 MB/s eta 0:00:02\n",
      "   --------------------------------- ------ 21.0/25.0 MB 4.6 MB/s eta 0:00:01\n",
      "   ----------------------------------- ---- 22.0/25.0 MB 4.5 MB/s eta 0:00:01\n",
      "   ----------------------------------- ---- 22.0/25.0 MB 4.5 MB/s eta 0:00:01\n",
      "   ----------------------------------- ---- 22.0/25.0 MB 4.5 MB/s eta 0:00:01\n",
      "   ----------------------------------- ---- 22.0/25.0 MB 4.5 MB/s eta 0:00:01\n",
      "   ---------------------------------------  24.9/25.0 MB 4.3 MB/s eta 0:00:01\n",
      "   ---------------------------------------  24.9/25.0 MB 4.3 MB/s eta 0:00:01\n",
      "   ---------------------------------------  24.9/25.0 MB 4.3 MB/s eta 0:00:01\n",
      "   ---------------------------------------  24.9/25.0 MB 4.3 MB/s eta 0:00:01\n",
      "   ---------------------------------------  24.9/25.0 MB 4.3 MB/s eta 0:00:01\n",
      "   ---------------------------------------- 25.0/25.0 MB 3.7 MB/s eta 0:00:00\n",
      "Downloading spacy-3.7.5-cp312-cp312-win_amd64.whl (11.7 MB)\n",
      "   ---------------------------------------- 0.0/11.7 MB ? eta -:--:--\n",
      "   ---------------------------------------  11.5/11.7 MB 60.3 MB/s eta 0:00:01\n",
      "   ---------------------------------------- 11.7/11.7 MB 33.2 MB/s eta 0:00:00\n",
      "Downloading thinc-8.2.5-cp312-cp312-win_amd64.whl (1.4 MB)\n",
      "   ---------------------------------------- 0.0/1.4 MB ? eta -:--:--\n",
      "   ---------------------------------------- 1.4/1.4 MB 25.2 MB/s eta 0:00:00\n",
      "Downloading transformers-4.47.1-py3-none-any.whl (10.1 MB)\n",
      "   ---------------------------------------- 0.0/10.1 MB ? eta -:--:--\n",
      "   ---------------------------------------  10.0/10.1 MB 62.2 MB/s eta 0:00:01\n",
      "   ---------------------------------------- 10.1/10.1 MB 33.2 MB/s eta 0:00:00\n",
      "Using cached catalogue-2.0.10-py3-none-any.whl (17 kB)\n",
      "Downloading cymem-2.0.10-cp312-cp312-win_amd64.whl (39 kB)\n",
      "Downloading langcodes-3.5.0-py3-none-any.whl (182 kB)\n",
      "Downloading murmurhash-1.0.11-cp312-cp312-win_amd64.whl (25 kB)\n",
      "Downloading preshed-3.0.9-cp312-cp312-win_amd64.whl (122 kB)\n",
      "Downloading pydantic-2.10.4-py3-none-any.whl (431 kB)\n",
      "Downloading pydantic_core-2.27.2-cp312-cp312-win_amd64.whl (2.0 MB)\n",
      "   ---------------------------------------- 0.0/2.0 MB ? eta -:--:--\n",
      "   ---------------------------------------- 2.0/2.0 MB 15.7 MB/s eta 0:00:00\n",
      "Downloading regex-2024.11.6-cp312-cp312-win_amd64.whl (273 kB)\n",
      "Downloading safetensors-0.5.1-cp38-abi3-win_amd64.whl (303 kB)\n",
      "Using cached spacy_legacy-3.0.12-py2.py3-none-any.whl (29 kB)\n",
      "Using cached spacy_loggers-1.0.5-py3-none-any.whl (22 kB)\n",
      "Using cached spacy_lookups_data-1.0.5-py2.py3-none-any.whl (98.5 MB)\n",
      "Downloading srsly-2.5.0-cp312-cp312-win_amd64.whl (632 kB)\n",
      "   ---------------------------------------- 0.0/632.6 kB ? eta -:--:--\n",
      "   --------------------------------------- 632.6/632.6 kB 11.6 MB/s eta 0:00:00\n",
      "Downloading tokenizers-0.21.0-cp39-abi3-win_amd64.whl (2.4 MB)\n",
      "   ---------------------------------------- 0.0/2.4 MB ? eta -:--:--\n",
      "   ---------------------------------------- 2.4/2.4 MB 27.3 MB/s eta 0:00:00\n",
      "Downloading typer-0.15.1-py3-none-any.whl (44 kB)\n",
      "Using cached wasabi-1.1.3-py3-none-any.whl (27 kB)\n",
      "Using cached weasel-0.4.1-py3-none-any.whl (50 kB)\n",
      "Using cached annotated_types-0.7.0-py3-none-any.whl (13 kB)\n",
      "Downloading cloudpathlib-0.20.0-py3-none-any.whl (52 kB)\n",
      "Using cached confection-0.1.5-py3-none-any.whl (35 kB)\n",
      "Downloading language_data-1.3.0-py3-none-any.whl (5.4 MB)\n",
      "   ---------------------------------------- 0.0/5.4 MB ? eta -:--:--\n",
      "   -------------------------------------- - 5.2/5.4 MB 63.9 MB/s eta 0:00:01\n",
      "   ---------------------------------------- 5.4/5.4 MB 16.4 MB/s eta 0:00:00\n",
      "Downloading rich-13.9.4-py3-none-any.whl (242 kB)\n",
      "Using cached shellingham-1.5.4-py2.py3-none-any.whl (9.8 kB)\n",
      "Downloading smart_open-7.1.0-py3-none-any.whl (61 kB)\n",
      "Downloading marisa_trie-1.2.1-cp312-cp312-win_amd64.whl (150 kB)\n",
      "Using cached markdown_it_py-3.0.0-py3-none-any.whl (87 kB)\n",
      "Downloading wrapt-1.17.0-cp312-cp312-win_amd64.whl (38 kB)\n",
      "Using cached mdurl-0.1.2-py3-none-any.whl (10.0 kB)\n",
      "Installing collected packages: cymem, wrapt, wasabi, spacy_lookups_data, spacy-loggers, spacy-legacy, shellingham, safetensors, regex, pydantic-core, Pillow, numpy, murmurhash, mdurl, marisa-trie, cloudpathlib, catalogue, attrs, annotated-types, srsly, smart-open, pydantic, preshed, markdown-it-py, language-data, blis, tokenizers, scikit-image, rich, langcodes, confection, typer, transformers, thinc, weasel, spacy, alibi\n",
      "  Attempting uninstall: Pillow\n",
      "    Found existing installation: pillow 11.0.0\n",
      "    Uninstalling pillow-11.0.0:\n",
      "      Successfully uninstalled pillow-11.0.0\n",
      "  Attempting uninstall: numpy\n",
      "    Found existing installation: numpy 2.0.0\n",
      "    Uninstalling numpy-2.0.0:\n",
      "      Successfully uninstalled numpy-2.0.0\n",
      "  Attempting uninstall: attrs\n",
      "    Found existing installation: attrs 24.3.0\n",
      "    Uninstalling attrs-24.3.0:\n",
      "      Successfully uninstalled attrs-24.3.0\n",
      "  Attempting uninstall: scikit-image\n",
      "    Found existing installation: scikit-image 0.25.0\n",
      "    Uninstalling scikit-image-0.25.0:\n",
      "      Successfully uninstalled scikit-image-0.25.0\n",
      "Successfully installed Pillow-10.4.0 alibi-0.9.6 annotated-types-0.7.0 attrs-23.2.0 blis-0.7.11 catalogue-2.0.10 cloudpathlib-0.20.0 confection-0.1.5 cymem-2.0.10 langcodes-3.5.0 language-data-1.3.0 marisa-trie-1.2.1 markdown-it-py-3.0.0 mdurl-0.1.2 murmurhash-1.0.11 numpy-1.26.4 preshed-3.0.9 pydantic-2.10.4 pydantic-core-2.27.2 regex-2024.11.6 rich-13.9.4 safetensors-0.5.1 scikit-image-0.22.0 shellingham-1.5.4 smart-open-7.1.0 spacy-3.7.5 spacy-legacy-3.0.12 spacy-loggers-1.0.5 spacy_lookups_data-1.0.5 srsly-2.5.0 thinc-8.2.5 tokenizers-0.21.0 transformers-4.47.1 typer-0.15.1 wasabi-1.1.3 weasel-0.4.1 wrapt-1.17.0\n"
     ]
    }
   ],
   "source": [
    "#https://pypi.org/project/alibi/0.3.1/\n",
    "!pip install alibi"
   ]
  },
  {
   "cell_type": "markdown",
   "metadata": {},
   "source": [
    "**Import required libraries**"
   ]
  },
  {
   "cell_type": "code",
   "execution_count": 4,
   "metadata": {},
   "outputs": [],
   "source": [
    "import numpy as np\n",
    "from sklearn.datasets import load_iris\n",
    "from sklearn.ensemble import RandomForestClassifier\n",
    "from alibi.explainers import AnchorTabular\n",
    "from sklearn.model_selection import train_test_split"
   ]
  },
  {
   "cell_type": "markdown",
   "metadata": {},
   "source": [
    "**Load the iris dataset and extract the class types**"
   ]
  },
  {
   "cell_type": "code",
   "execution_count": 3,
   "metadata": {},
   "outputs": [],
   "source": [
    "dataset = load_iris()\n",
    "feature_names = dataset.feature_names\n",
    "class_names = list(dataset.target_names)"
   ]
  },
  {
   "cell_type": "markdown",
   "metadata": {},
   "source": [
    "**Split the data into train and test set**"
   ]
  },
  {
   "cell_type": "code",
   "execution_count": 6,
   "metadata": {},
   "outputs": [],
   "source": [
    "X = dataset.data\n",
    "y = dataset.target\n",
    "X_train, X_test, y_train, y_test = train_test_split(X, y, test_size=0.2, random_state=42)\n"
   ]
  },
  {
   "cell_type": "code",
   "execution_count": 7,
   "metadata": {},
   "outputs": [
    {
     "data": {
      "text/plain": [
       "((120, 4), (30, 4), (120,), (30,))"
      ]
     },
     "execution_count": 7,
     "metadata": {},
     "output_type": "execute_result"
    }
   ],
   "source": [
    "X_train.shape, X_test.shape, y_train.shape, y_test.shape"
   ]
  },
  {
   "cell_type": "code",
   "execution_count": 4,
   "metadata": {},
   "outputs": [],
   "source": [
    "idx = 145\n",
    "X_train,Y_train = dataset.data[:idx,:], dataset.target[:idx]\n",
    "X_test, Y_test = dataset.data[idx+1:,:], dataset.target[idx+1:]"
   ]
  },
  {
   "cell_type": "markdown",
   "metadata": {},
   "source": [
    "**Train the Random Forest Classifier**"
   ]
  },
  {
   "cell_type": "code",
   "execution_count": 9,
   "metadata": {},
   "outputs": [
    {
     "data": {
      "text/html": [
       "<style>#sk-container-id-1 {color: black;}#sk-container-id-1 pre{padding: 0;}#sk-container-id-1 div.sk-toggleable {background-color: white;}#sk-container-id-1 label.sk-toggleable__label {cursor: pointer;display: block;width: 100%;margin-bottom: 0;padding: 0.3em;box-sizing: border-box;text-align: center;}#sk-container-id-1 label.sk-toggleable__label-arrow:before {content: \"▸\";float: left;margin-right: 0.25em;color: #696969;}#sk-container-id-1 label.sk-toggleable__label-arrow:hover:before {color: black;}#sk-container-id-1 div.sk-estimator:hover label.sk-toggleable__label-arrow:before {color: black;}#sk-container-id-1 div.sk-toggleable__content {max-height: 0;max-width: 0;overflow: hidden;text-align: left;background-color: #f0f8ff;}#sk-container-id-1 div.sk-toggleable__content pre {margin: 0.2em;color: black;border-radius: 0.25em;background-color: #f0f8ff;}#sk-container-id-1 input.sk-toggleable__control:checked~div.sk-toggleable__content {max-height: 200px;max-width: 100%;overflow: auto;}#sk-container-id-1 input.sk-toggleable__control:checked~label.sk-toggleable__label-arrow:before {content: \"▾\";}#sk-container-id-1 div.sk-estimator input.sk-toggleable__control:checked~label.sk-toggleable__label {background-color: #d4ebff;}#sk-container-id-1 div.sk-label input.sk-toggleable__control:checked~label.sk-toggleable__label {background-color: #d4ebff;}#sk-container-id-1 input.sk-hidden--visually {border: 0;clip: rect(1px 1px 1px 1px);clip: rect(1px, 1px, 1px, 1px);height: 1px;margin: -1px;overflow: hidden;padding: 0;position: absolute;width: 1px;}#sk-container-id-1 div.sk-estimator {font-family: monospace;background-color: #f0f8ff;border: 1px dotted black;border-radius: 0.25em;box-sizing: border-box;margin-bottom: 0.5em;}#sk-container-id-1 div.sk-estimator:hover {background-color: #d4ebff;}#sk-container-id-1 div.sk-parallel-item::after {content: \"\";width: 100%;border-bottom: 1px solid gray;flex-grow: 1;}#sk-container-id-1 div.sk-label:hover label.sk-toggleable__label {background-color: #d4ebff;}#sk-container-id-1 div.sk-serial::before {content: \"\";position: absolute;border-left: 1px solid gray;box-sizing: border-box;top: 0;bottom: 0;left: 50%;z-index: 0;}#sk-container-id-1 div.sk-serial {display: flex;flex-direction: column;align-items: center;background-color: white;padding-right: 0.2em;padding-left: 0.2em;position: relative;}#sk-container-id-1 div.sk-item {position: relative;z-index: 1;}#sk-container-id-1 div.sk-parallel {display: flex;align-items: stretch;justify-content: center;background-color: white;position: relative;}#sk-container-id-1 div.sk-item::before, #sk-container-id-1 div.sk-parallel-item::before {content: \"\";position: absolute;border-left: 1px solid gray;box-sizing: border-box;top: 0;bottom: 0;left: 50%;z-index: -1;}#sk-container-id-1 div.sk-parallel-item {display: flex;flex-direction: column;z-index: 1;position: relative;background-color: white;}#sk-container-id-1 div.sk-parallel-item:first-child::after {align-self: flex-end;width: 50%;}#sk-container-id-1 div.sk-parallel-item:last-child::after {align-self: flex-start;width: 50%;}#sk-container-id-1 div.sk-parallel-item:only-child::after {width: 0;}#sk-container-id-1 div.sk-dashed-wrapped {border: 1px dashed gray;margin: 0 0.4em 0.5em 0.4em;box-sizing: border-box;padding-bottom: 0.4em;background-color: white;}#sk-container-id-1 div.sk-label label {font-family: monospace;font-weight: bold;display: inline-block;line-height: 1.2em;}#sk-container-id-1 div.sk-label-container {text-align: center;}#sk-container-id-1 div.sk-container {/* jupyter's `normalize.less` sets `[hidden] { display: none; }` but bootstrap.min.css set `[hidden] { display: none !important; }` so we also need the `!important` here to be able to override the default hidden behavior on the sphinx rendered scikit-learn.org. See: https://github.com/scikit-learn/scikit-learn/issues/21755 */display: inline-block !important;position: relative;}#sk-container-id-1 div.sk-text-repr-fallback {display: none;}</style><div id=\"sk-container-id-1\" class=\"sk-top-container\"><div class=\"sk-text-repr-fallback\"><pre>RandomForestClassifier(n_estimators=50)</pre><b>In a Jupyter environment, please rerun this cell to show the HTML representation or trust the notebook. <br />On GitHub, the HTML representation is unable to render, please try loading this page with nbviewer.org.</b></div><div class=\"sk-container\" hidden><div class=\"sk-item\"><div class=\"sk-estimator sk-toggleable\"><input class=\"sk-toggleable__control sk-hidden--visually\" id=\"sk-estimator-id-1\" type=\"checkbox\" checked><label for=\"sk-estimator-id-1\" class=\"sk-toggleable__label sk-toggleable__label-arrow\">RandomForestClassifier</label><div class=\"sk-toggleable__content\"><pre>RandomForestClassifier(n_estimators=50)</pre></div></div></div></div></div>"
      ],
      "text/plain": [
       "RandomForestClassifier(n_estimators=50)"
      ]
     },
     "execution_count": 9,
     "metadata": {},
     "output_type": "execute_result"
    }
   ],
   "source": [
    "np.random.seed(0)\n",
    "clf = RandomForestClassifier(n_estimators=50)\n",
    "clf.fit(X_train, y_train)"
   ]
  },
  {
   "cell_type": "markdown",
   "metadata": {},
   "source": [
    "**Define a lambda function for the prediction probability**\n",
    "\n",
    "This gets utilised in the Anchor Explainer"
   ]
  },
  {
   "cell_type": "code",
   "execution_count": 10,
   "metadata": {},
   "outputs": [],
   "source": [
    "predict_fn = lambda x: clf.predict_proba(x)"
   ]
  },
  {
   "cell_type": "markdown",
   "metadata": {},
   "source": [
    "**Initialize the Anchor Explainer**"
   ]
  },
  {
   "cell_type": "code",
   "execution_count": 12,
   "metadata": {},
   "outputs": [
    {
     "data": {
      "text/plain": [
       "AnchorTabular(meta={\n",
       "  'name': 'AnchorTabular',\n",
       "  'type': ['blackbox'],\n",
       "  'explanations': ['local'],\n",
       "  'params': {'seed': None, 'disc_perc': (25, 50, 75)},\n",
       "  'version': '0.9.6'}\n",
       ")"
      ]
     },
     "execution_count": 12,
     "metadata": {},
     "output_type": "execute_result"
    }
   ],
   "source": [
    "explainer = AnchorTabular(predict_fn, feature_names)\n",
    "explainer.fit(X_train, disc_perc=(25, 50, 75))"
   ]
  },
  {
   "cell_type": "markdown",
   "metadata": {},
   "source": [
    "**Display prediction for first item in test dataset**"
   ]
  },
  {
   "cell_type": "code",
   "execution_count": 13,
   "metadata": {},
   "outputs": [
    {
     "name": "stdout",
     "output_type": "stream",
     "text": [
      "Prediction:  versicolor\n"
     ]
    }
   ],
   "source": [
    "idx = 0\n",
    "print('Prediction: ', class_names[explainer.predictor(X_test[idx].reshape(1, -1))[0]])"
   ]
  },
  {
   "cell_type": "markdown",
   "metadata": {},
   "source": [
    "**Display the anchor explainer**\n",
    "\n",
    "We set the precision threshold to 0.95. This means that predictions on observations where the anchor holds will be the same as the prediction on the explained instance at least 95% of the time."
   ]
  },
  {
   "cell_type": "code",
   "execution_count": 10,
   "metadata": {},
   "outputs": [
    {
     "name": "stdout",
     "output_type": "stream",
     "text": [
      "Anchor: petal width (cm) > 1.80 AND sepal width (cm) <= 2.80\n",
      "Precision: 0.98\n",
      "Coverage: 0.08\n"
     ]
    }
   ],
   "source": [
    "explanation = explainer.explain(X_test[idx], threshold=0.95)\n",
    "print('Anchor: %s' % (' AND '.join(explanation.anchor)))\n",
    "print('Precision: %.2f' % explanation.precision)\n",
    "print('Coverage: %.2f' % explanation.coverage)"
   ]
  },
  {
   "cell_type": "markdown",
   "metadata": {},
   "source": [
    "The basis which determined the versicolor prediction above is this anchor \"petal width (cms) > 1.80 and sepal width (cms) <=2.80.\n",
    "\n",
    "We used a simple example with fewer features but as the number of dimensions increase, the rules in the anchors provide valuable explanations. "
   ]
  },
  {
   "cell_type": "code",
   "execution_count": null,
   "metadata": {},
   "outputs": [],
   "source": []
  }
 ],
 "metadata": {
  "kernelspec": {
   "display_name": "env-02",
   "language": "python",
   "name": "python3"
  },
  "language_info": {
   "codemirror_mode": {
    "name": "ipython",
    "version": 3
   },
   "file_extension": ".py",
   "mimetype": "text/x-python",
   "name": "python",
   "nbconvert_exporter": "python",
   "pygments_lexer": "ipython3",
   "version": "3.9.19"
  }
 },
 "nbformat": 4,
 "nbformat_minor": 2
}
