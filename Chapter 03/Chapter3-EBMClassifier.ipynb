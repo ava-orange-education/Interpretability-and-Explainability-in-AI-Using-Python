{
 "cells": [
  {
   "cell_type": "markdown",
   "metadata": {},
   "source": [
    "## Chapter 3\n",
    "\n",
    "### Inherently Interpretable Models - Glassbox models\n",
    "#### Here we will look at some of the Inherently Interpretable model\n",
    "\n",
    "##### In this example of a Explainable Boosting Classifier model, we will look at the interpretability aspect added in the model\n",
    "\n",
    "**Supervised Learning - Explainable Boosting Classifier**\n",
    "\n",
    "We use the credit-card dataset from huggingface. <br>\n",
    "\n",
    "This is a Classification problem and we will use a Explainable Boosting Classifier to classify loan eligibility. Explainability is inbuilt into this model and hence the name.<br>\n",
    "\n",
    "\n",
    "We are using the credit-card datasets from huggingface. More details on the dataset can be found here <br>\n",
    " https://huggingface.co/datasets/imodels/credit-card\n",
    "\n",
    "\n"
   ]
  },
  {
   "cell_type": "markdown",
   "metadata": {},
   "source": [
    "There are 25 variables:\n",
    "\n",
    "|Variable                |Description|\n",
    "|-----------------------|-----------|\n",
    "|ID|  ID of each client|\n",
    "|LIMIT_BAL| Amount of given credit in NT dollars (includes individual and family/supplementary credit|\n",
    "|SEX            | Gender (1=male, 2=female)|\n",
    "| EDUCATION                       | (1=graduate school, 2=university, 3=high school, 4=others, 5=unknown, 6=unknown)                  |\n",
    "| MARRIAGE                        | Marital status (1=married, 2=single, 3=others)                                                    |\n",
    "| AGE                             | Age in years                                                                                      |\n",
    "| PAY_0                           | Repayment status in September, 2005 (-1=pay duly, 1=payment delay for one month, 2=payment delay for two months, … 8=payment delay for eight months, 9=payment delay for nine months and above) |\n",
    "| PAY_2                           | Repayment status in August, 2005 (scale same as above)                                            |\n",
    "| PAY_3                           | Repayment status in July, 2005 (scale same as above)                                              |\n",
    "| PAY_4                           | Repayment status in June, 2005 (scale same as above)                                              |\n",
    "| PAY_5                           | Repayment status in May, 2005 (scale same as above)                                               |\n",
    "| PAY_6                           | Repayment status in April, 2005 (scale same as above)                                             |\n",
    "| BILL_AMT1                       | Amount of bill statement in September, 2005 (NT dollar)                                           |\n",
    "| BILL_AMT2                       | Amount of bill statement in August, 2005 (NT dollar)                                              |\n",
    "| BILL_AMT3                       | Amount of bill statement in July, 2005 (NT dollar)                                                |\n",
    "| BILL_AMT4                       | Amount of bill statement in June, 2005 (NT dollar)                                                |\n",
    "| BILL_AMT5                       | Amount of bill statement in May, 2005 (NT dollar)                                                 |\n",
    "| BILL_AMT6                       | Amount of bill statement in April, 2005 (NT dollar)                                               |\n",
    "| PAY_AMT1                        | Amount of previous payment in September, 2005 (NT dollar)                                         |\n",
    "| PAY_AMT2                        | Amount of previous payment in August, 2005 (NT dollar)                                            |\n",
    "| PAY_AMT3                        | Amount of previous payment in July, 2005 (NT dollar)                                              |\n",
    "| PAY_AMT4                        | Amount of previous payment in June, 2005 (NT dollar)                                              |\n",
    "| PAY_AMT5                        | Amount of previous payment in May, 2005 (NT dollar)                                               |\n",
    "| PAY_AMT6                        | Amount of previous payment in April, 2005 (NT dollar)                                             |\n",
    "| default.payment.next.month      | Default payment (1=yes, 0=no)                                                                     |\n",
    "\n",
    "The variable default.payment.next.month is the Target or Label."
   ]
  },
  {
   "cell_type": "markdown",
   "metadata": {},
   "source": [
    "**Import the required libraries**"
   ]
  },
  {
   "cell_type": "code",
   "execution_count": 1,
   "metadata": {},
   "outputs": [
    {
     "name": "stdout",
     "output_type": "stream",
     "text": [
      "Requirement already satisfied: interpret in c:\\users\\achakkirala\\appdata\\local\\miniconda3\\lib\\site-packages (0.6.8)\n",
      "Requirement already satisfied: interpret-core==0.6.8 in c:\\users\\achakkirala\\appdata\\local\\miniconda3\\lib\\site-packages (from interpret-core[aplr,dash,debug,linear,notebook,plotly,sensitivity,shap]==0.6.8->interpret) (0.6.8)\n",
      "Requirement already satisfied: numpy>=1.25 in c:\\users\\achakkirala\\appdata\\local\\miniconda3\\lib\\site-packages (from interpret-core==0.6.8->interpret-core[aplr,dash,debug,linear,notebook,plotly,sensitivity,shap]==0.6.8->interpret) (2.0.0)\n",
      "Requirement already satisfied: pandas>=0.19.2 in c:\\users\\achakkirala\\appdata\\local\\miniconda3\\lib\\site-packages (from interpret-core==0.6.8->interpret-core[aplr,dash,debug,linear,notebook,plotly,sensitivity,shap]==0.6.8->interpret) (2.2.2)\n",
      "Requirement already satisfied: scikit-learn>=0.18.1 in c:\\users\\achakkirala\\appdata\\local\\miniconda3\\lib\\site-packages (from interpret-core==0.6.8->interpret-core[aplr,dash,debug,linear,notebook,plotly,sensitivity,shap]==0.6.8->interpret) (1.5.0)\n",
      "Requirement already satisfied: joblib>=0.11 in c:\\users\\achakkirala\\appdata\\local\\miniconda3\\lib\\site-packages (from interpret-core==0.6.8->interpret-core[aplr,dash,debug,linear,notebook,plotly,sensitivity,shap]==0.6.8->interpret) (1.4.2)\n",
      "Requirement already satisfied: psutil>=5.6.2 in c:\\users\\achakkirala\\appdata\\local\\miniconda3\\lib\\site-packages (from interpret-core[aplr,dash,debug,linear,notebook,plotly,sensitivity,shap]==0.6.8->interpret) (6.1.1)\n",
      "Requirement already satisfied: ipykernel>=4.10.0 in c:\\users\\achakkirala\\appdata\\local\\miniconda3\\lib\\site-packages (from interpret-core[aplr,dash,debug,linear,notebook,plotly,sensitivity,shap]==0.6.8->interpret) (6.29.5)\n",
      "Requirement already satisfied: ipython>=5.5.0 in c:\\users\\achakkirala\\appdata\\local\\miniconda3\\lib\\site-packages (from interpret-core[aplr,dash,debug,linear,notebook,plotly,sensitivity,shap]==0.6.8->interpret) (8.31.0)\n",
      "Requirement already satisfied: plotly>=3.8.1 in c:\\users\\achakkirala\\appdata\\local\\miniconda3\\lib\\site-packages (from interpret-core[aplr,dash,debug,linear,notebook,plotly,sensitivity,shap]==0.6.8->interpret) (5.24.1)\n",
      "Requirement already satisfied: SALib>=1.3.3 in c:\\users\\achakkirala\\appdata\\local\\miniconda3\\lib\\site-packages (from interpret-core[aplr,dash,debug,linear,notebook,plotly,sensitivity,shap]==0.6.8->interpret) (1.5.1)\n",
      "Requirement already satisfied: shap>=0.28.5 in c:\\users\\achakkirala\\appdata\\local\\miniconda3\\lib\\site-packages (from interpret-core[aplr,dash,debug,linear,notebook,plotly,sensitivity,shap]==0.6.8->interpret) (0.45.1)\n",
      "Requirement already satisfied: dill>=0.2.5 in c:\\users\\achakkirala\\appdata\\local\\miniconda3\\lib\\site-packages (from interpret-core[aplr,dash,debug,linear,notebook,plotly,sensitivity,shap]==0.6.8->interpret) (0.3.8)\n",
      "Requirement already satisfied: aplr>=10.6.1 in c:\\users\\achakkirala\\appdata\\local\\miniconda3\\lib\\site-packages (from interpret-core[aplr,dash,debug,linear,notebook,plotly,sensitivity,shap]==0.6.8->interpret) (10.8.0)\n",
      "Requirement already satisfied: dash>=1.0.0 in c:\\users\\achakkirala\\appdata\\local\\miniconda3\\lib\\site-packages (from interpret-core[aplr,dash,debug,linear,notebook,plotly,sensitivity,shap]==0.6.8->interpret) (2.18.2)\n",
      "Requirement already satisfied: dash-core-components>=1.0.0 in c:\\users\\achakkirala\\appdata\\local\\miniconda3\\lib\\site-packages (from interpret-core[aplr,dash,debug,linear,notebook,plotly,sensitivity,shap]==0.6.8->interpret) (2.0.0)\n",
      "Requirement already satisfied: dash-html-components>=1.0.0 in c:\\users\\achakkirala\\appdata\\local\\miniconda3\\lib\\site-packages (from interpret-core[aplr,dash,debug,linear,notebook,plotly,sensitivity,shap]==0.6.8->interpret) (2.0.0)\n",
      "Requirement already satisfied: dash-table>=4.1.0 in c:\\users\\achakkirala\\appdata\\local\\miniconda3\\lib\\site-packages (from interpret-core[aplr,dash,debug,linear,notebook,plotly,sensitivity,shap]==0.6.8->interpret) (5.0.0)\n",
      "Requirement already satisfied: dash-cytoscape>=0.1.1 in c:\\users\\achakkirala\\appdata\\local\\miniconda3\\lib\\site-packages (from interpret-core[aplr,dash,debug,linear,notebook,plotly,sensitivity,shap]==0.6.8->interpret) (1.0.2)\n",
      "Requirement already satisfied: gevent>=1.3.6 in c:\\users\\achakkirala\\appdata\\local\\miniconda3\\lib\\site-packages (from interpret-core[aplr,dash,debug,linear,notebook,plotly,sensitivity,shap]==0.6.8->interpret) (24.11.1)\n",
      "Requirement already satisfied: requests>=2.19.0 in c:\\users\\achakkirala\\appdata\\local\\miniconda3\\lib\\site-packages (from interpret-core[aplr,dash,debug,linear,notebook,plotly,sensitivity,shap]==0.6.8->interpret) (2.32.3)\n",
      "Requirement already satisfied: Flask<3.1,>=1.0.4 in c:\\users\\achakkirala\\appdata\\local\\miniconda3\\lib\\site-packages (from dash>=1.0.0->interpret-core[aplr,dash,debug,linear,notebook,plotly,sensitivity,shap]==0.6.8->interpret) (3.0.3)\n",
      "Requirement already satisfied: Werkzeug<3.1 in c:\\users\\achakkirala\\appdata\\local\\miniconda3\\lib\\site-packages (from dash>=1.0.0->interpret-core[aplr,dash,debug,linear,notebook,plotly,sensitivity,shap]==0.6.8->interpret) (3.0.6)\n",
      "Requirement already satisfied: importlib-metadata in c:\\users\\achakkirala\\appdata\\local\\miniconda3\\lib\\site-packages (from dash>=1.0.0->interpret-core[aplr,dash,debug,linear,notebook,plotly,sensitivity,shap]==0.6.8->interpret) (8.5.0)\n",
      "Requirement already satisfied: typing-extensions>=4.1.1 in c:\\users\\achakkirala\\appdata\\local\\miniconda3\\lib\\site-packages (from dash>=1.0.0->interpret-core[aplr,dash,debug,linear,notebook,plotly,sensitivity,shap]==0.6.8->interpret) (4.12.2)\n",
      "Requirement already satisfied: retrying in c:\\users\\achakkirala\\appdata\\local\\miniconda3\\lib\\site-packages (from dash>=1.0.0->interpret-core[aplr,dash,debug,linear,notebook,plotly,sensitivity,shap]==0.6.8->interpret) (1.3.4)\n",
      "Requirement already satisfied: nest-asyncio in c:\\users\\achakkirala\\appdata\\local\\miniconda3\\lib\\site-packages (from dash>=1.0.0->interpret-core[aplr,dash,debug,linear,notebook,plotly,sensitivity,shap]==0.6.8->interpret) (1.6.0)\n",
      "Requirement already satisfied: setuptools in c:\\users\\achakkirala\\appdata\\local\\miniconda3\\lib\\site-packages (from dash>=1.0.0->interpret-core[aplr,dash,debug,linear,notebook,plotly,sensitivity,shap]==0.6.8->interpret) (68.2.2)\n",
      "Requirement already satisfied: zope.event in c:\\users\\achakkirala\\appdata\\local\\miniconda3\\lib\\site-packages (from gevent>=1.3.6->interpret-core[aplr,dash,debug,linear,notebook,plotly,sensitivity,shap]==0.6.8->interpret) (5.0)\n",
      "Requirement already satisfied: zope.interface in c:\\users\\achakkirala\\appdata\\local\\miniconda3\\lib\\site-packages (from gevent>=1.3.6->interpret-core[aplr,dash,debug,linear,notebook,plotly,sensitivity,shap]==0.6.8->interpret) (7.2)\n",
      "Requirement already satisfied: greenlet>=3.1.1 in c:\\users\\achakkirala\\appdata\\local\\miniconda3\\lib\\site-packages (from gevent>=1.3.6->interpret-core[aplr,dash,debug,linear,notebook,plotly,sensitivity,shap]==0.6.8->interpret) (3.1.1)\n",
      "Requirement already satisfied: cffi>=1.17.1 in c:\\users\\achakkirala\\appdata\\local\\miniconda3\\lib\\site-packages (from gevent>=1.3.6->interpret-core[aplr,dash,debug,linear,notebook,plotly,sensitivity,shap]==0.6.8->interpret) (1.17.1)\n",
      "Requirement already satisfied: comm>=0.1.1 in c:\\users\\achakkirala\\appdata\\local\\miniconda3\\lib\\site-packages (from ipykernel>=4.10.0->interpret-core[aplr,dash,debug,linear,notebook,plotly,sensitivity,shap]==0.6.8->interpret) (0.2.2)\n",
      "Requirement already satisfied: debugpy>=1.6.5 in c:\\users\\achakkirala\\appdata\\local\\miniconda3\\lib\\site-packages (from ipykernel>=4.10.0->interpret-core[aplr,dash,debug,linear,notebook,plotly,sensitivity,shap]==0.6.8->interpret) (1.8.11)\n",
      "Requirement already satisfied: jupyter-client>=6.1.12 in c:\\users\\achakkirala\\appdata\\local\\miniconda3\\lib\\site-packages (from ipykernel>=4.10.0->interpret-core[aplr,dash,debug,linear,notebook,plotly,sensitivity,shap]==0.6.8->interpret) (8.6.3)\n",
      "Requirement already satisfied: jupyter-core!=5.0.*,>=4.12 in c:\\users\\achakkirala\\appdata\\local\\miniconda3\\lib\\site-packages (from ipykernel>=4.10.0->interpret-core[aplr,dash,debug,linear,notebook,plotly,sensitivity,shap]==0.6.8->interpret) (5.7.2)\n",
      "Requirement already satisfied: matplotlib-inline>=0.1 in c:\\users\\achakkirala\\appdata\\local\\miniconda3\\lib\\site-packages (from ipykernel>=4.10.0->interpret-core[aplr,dash,debug,linear,notebook,plotly,sensitivity,shap]==0.6.8->interpret) (0.1.7)\n",
      "Requirement already satisfied: packaging in c:\\users\\achakkirala\\appdata\\local\\miniconda3\\lib\\site-packages (from ipykernel>=4.10.0->interpret-core[aplr,dash,debug,linear,notebook,plotly,sensitivity,shap]==0.6.8->interpret) (23.2)\n",
      "Requirement already satisfied: pyzmq>=24 in c:\\users\\achakkirala\\appdata\\local\\miniconda3\\lib\\site-packages (from ipykernel>=4.10.0->interpret-core[aplr,dash,debug,linear,notebook,plotly,sensitivity,shap]==0.6.8->interpret) (26.2.0)\n",
      "Requirement already satisfied: tornado>=6.1 in c:\\users\\achakkirala\\appdata\\local\\miniconda3\\lib\\site-packages (from ipykernel>=4.10.0->interpret-core[aplr,dash,debug,linear,notebook,plotly,sensitivity,shap]==0.6.8->interpret) (6.4.2)\n",
      "Requirement already satisfied: traitlets>=5.4.0 in c:\\users\\achakkirala\\appdata\\local\\miniconda3\\lib\\site-packages (from ipykernel>=4.10.0->interpret-core[aplr,dash,debug,linear,notebook,plotly,sensitivity,shap]==0.6.8->interpret) (5.14.3)\n",
      "Requirement already satisfied: colorama in c:\\users\\achakkirala\\appdata\\local\\miniconda3\\lib\\site-packages (from ipython>=5.5.0->interpret-core[aplr,dash,debug,linear,notebook,plotly,sensitivity,shap]==0.6.8->interpret) (0.4.6)\n",
      "Requirement already satisfied: decorator in c:\\users\\achakkirala\\appdata\\local\\miniconda3\\lib\\site-packages (from ipython>=5.5.0->interpret-core[aplr,dash,debug,linear,notebook,plotly,sensitivity,shap]==0.6.8->interpret) (5.1.1)\n",
      "Requirement already satisfied: jedi>=0.16 in c:\\users\\achakkirala\\appdata\\local\\miniconda3\\lib\\site-packages (from ipython>=5.5.0->interpret-core[aplr,dash,debug,linear,notebook,plotly,sensitivity,shap]==0.6.8->interpret) (0.19.2)\n",
      "Requirement already satisfied: prompt_toolkit<3.1.0,>=3.0.41 in c:\\users\\achakkirala\\appdata\\local\\miniconda3\\lib\\site-packages (from ipython>=5.5.0->interpret-core[aplr,dash,debug,linear,notebook,plotly,sensitivity,shap]==0.6.8->interpret) (3.0.48)\n",
      "Requirement already satisfied: pygments>=2.4.0 in c:\\users\\achakkirala\\appdata\\local\\miniconda3\\lib\\site-packages (from ipython>=5.5.0->interpret-core[aplr,dash,debug,linear,notebook,plotly,sensitivity,shap]==0.6.8->interpret) (2.18.0)\n",
      "Requirement already satisfied: stack_data in c:\\users\\achakkirala\\appdata\\local\\miniconda3\\lib\\site-packages (from ipython>=5.5.0->interpret-core[aplr,dash,debug,linear,notebook,plotly,sensitivity,shap]==0.6.8->interpret) (0.6.3)\n",
      "Requirement already satisfied: python-dateutil>=2.8.2 in c:\\users\\achakkirala\\appdata\\local\\miniconda3\\lib\\site-packages (from pandas>=0.19.2->interpret-core==0.6.8->interpret-core[aplr,dash,debug,linear,notebook,plotly,sensitivity,shap]==0.6.8->interpret) (2.9.0.post0)\n",
      "Requirement already satisfied: pytz>=2020.1 in c:\\users\\achakkirala\\appdata\\local\\miniconda3\\lib\\site-packages (from pandas>=0.19.2->interpret-core==0.6.8->interpret-core[aplr,dash,debug,linear,notebook,plotly,sensitivity,shap]==0.6.8->interpret) (2024.1)\n",
      "Requirement already satisfied: tzdata>=2022.7 in c:\\users\\achakkirala\\appdata\\local\\miniconda3\\lib\\site-packages (from pandas>=0.19.2->interpret-core==0.6.8->interpret-core[aplr,dash,debug,linear,notebook,plotly,sensitivity,shap]==0.6.8->interpret) (2024.1)\n",
      "Requirement already satisfied: tenacity>=6.2.0 in c:\\users\\achakkirala\\appdata\\local\\miniconda3\\lib\\site-packages (from plotly>=3.8.1->interpret-core[aplr,dash,debug,linear,notebook,plotly,sensitivity,shap]==0.6.8->interpret) (9.0.0)\n",
      "Requirement already satisfied: charset-normalizer<4,>=2 in c:\\users\\achakkirala\\appdata\\local\\miniconda3\\lib\\site-packages (from requests>=2.19.0->interpret-core[aplr,dash,debug,linear,notebook,plotly,sensitivity,shap]==0.6.8->interpret) (2.0.4)\n",
      "Requirement already satisfied: idna<4,>=2.5 in c:\\users\\achakkirala\\appdata\\local\\miniconda3\\lib\\site-packages (from requests>=2.19.0->interpret-core[aplr,dash,debug,linear,notebook,plotly,sensitivity,shap]==0.6.8->interpret) (3.4)\n",
      "Requirement already satisfied: urllib3<3,>=1.21.1 in c:\\users\\achakkirala\\appdata\\local\\miniconda3\\lib\\site-packages (from requests>=2.19.0->interpret-core[aplr,dash,debug,linear,notebook,plotly,sensitivity,shap]==0.6.8->interpret) (2.1.0)\n",
      "Requirement already satisfied: certifi>=2017.4.17 in c:\\users\\achakkirala\\appdata\\local\\miniconda3\\lib\\site-packages (from requests>=2.19.0->interpret-core[aplr,dash,debug,linear,notebook,plotly,sensitivity,shap]==0.6.8->interpret) (2024.12.14)\n",
      "Requirement already satisfied: matplotlib>=3.5 in c:\\users\\achakkirala\\appdata\\local\\miniconda3\\lib\\site-packages (from SALib>=1.3.3->interpret-core[aplr,dash,debug,linear,notebook,plotly,sensitivity,shap]==0.6.8->interpret) (3.10.0)\n",
      "Requirement already satisfied: multiprocess in c:\\users\\achakkirala\\appdata\\local\\miniconda3\\lib\\site-packages (from SALib>=1.3.3->interpret-core[aplr,dash,debug,linear,notebook,plotly,sensitivity,shap]==0.6.8->interpret) (0.70.16)\n",
      "Requirement already satisfied: scipy>=1.9.3 in c:\\users\\achakkirala\\appdata\\local\\miniconda3\\lib\\site-packages (from SALib>=1.3.3->interpret-core[aplr,dash,debug,linear,notebook,plotly,sensitivity,shap]==0.6.8->interpret) (1.13.1)\n",
      "Requirement already satisfied: threadpoolctl>=3.1.0 in c:\\users\\achakkirala\\appdata\\local\\miniconda3\\lib\\site-packages (from scikit-learn>=0.18.1->interpret-core==0.6.8->interpret-core[aplr,dash,debug,linear,notebook,plotly,sensitivity,shap]==0.6.8->interpret) (3.5.0)\n",
      "Requirement already satisfied: tqdm>=4.27.0 in c:\\users\\achakkirala\\appdata\\local\\miniconda3\\lib\\site-packages (from shap>=0.28.5->interpret-core[aplr,dash,debug,linear,notebook,plotly,sensitivity,shap]==0.6.8->interpret) (4.67.1)\n",
      "Requirement already satisfied: slicer==0.0.8 in c:\\users\\achakkirala\\appdata\\local\\miniconda3\\lib\\site-packages (from shap>=0.28.5->interpret-core[aplr,dash,debug,linear,notebook,plotly,sensitivity,shap]==0.6.8->interpret) (0.0.8)\n",
      "Requirement already satisfied: numba in c:\\users\\achakkirala\\appdata\\local\\miniconda3\\lib\\site-packages (from shap>=0.28.5->interpret-core[aplr,dash,debug,linear,notebook,plotly,sensitivity,shap]==0.6.8->interpret) (0.60.0)\n",
      "Requirement already satisfied: cloudpickle in c:\\users\\achakkirala\\appdata\\local\\miniconda3\\lib\\site-packages (from shap>=0.28.5->interpret-core[aplr,dash,debug,linear,notebook,plotly,sensitivity,shap]==0.6.8->interpret) (3.0.0)\n",
      "Requirement already satisfied: pycparser in c:\\users\\achakkirala\\appdata\\local\\miniconda3\\lib\\site-packages (from cffi>=1.17.1->gevent>=1.3.6->interpret-core[aplr,dash,debug,linear,notebook,plotly,sensitivity,shap]==0.6.8->interpret) (2.21)\n",
      "Requirement already satisfied: Jinja2>=3.1.2 in c:\\users\\achakkirala\\appdata\\local\\miniconda3\\lib\\site-packages (from Flask<3.1,>=1.0.4->dash>=1.0.0->interpret-core[aplr,dash,debug,linear,notebook,plotly,sensitivity,shap]==0.6.8->interpret) (3.1.5)\n",
      "Requirement already satisfied: itsdangerous>=2.1.2 in c:\\users\\achakkirala\\appdata\\local\\miniconda3\\lib\\site-packages (from Flask<3.1,>=1.0.4->dash>=1.0.0->interpret-core[aplr,dash,debug,linear,notebook,plotly,sensitivity,shap]==0.6.8->interpret) (2.2.0)\n",
      "Requirement already satisfied: click>=8.1.3 in c:\\users\\achakkirala\\appdata\\local\\miniconda3\\lib\\site-packages (from Flask<3.1,>=1.0.4->dash>=1.0.0->interpret-core[aplr,dash,debug,linear,notebook,plotly,sensitivity,shap]==0.6.8->interpret) (8.1.8)\n",
      "Requirement already satisfied: blinker>=1.6.2 in c:\\users\\achakkirala\\appdata\\local\\miniconda3\\lib\\site-packages (from Flask<3.1,>=1.0.4->dash>=1.0.0->interpret-core[aplr,dash,debug,linear,notebook,plotly,sensitivity,shap]==0.6.8->interpret) (1.9.0)\n",
      "Requirement already satisfied: parso<0.9.0,>=0.8.4 in c:\\users\\achakkirala\\appdata\\local\\miniconda3\\lib\\site-packages (from jedi>=0.16->ipython>=5.5.0->interpret-core[aplr,dash,debug,linear,notebook,plotly,sensitivity,shap]==0.6.8->interpret) (0.8.4)\n",
      "Requirement already satisfied: platformdirs>=2.5 in c:\\users\\achakkirala\\appdata\\local\\miniconda3\\lib\\site-packages (from jupyter-core!=5.0.*,>=4.12->ipykernel>=4.10.0->interpret-core[aplr,dash,debug,linear,notebook,plotly,sensitivity,shap]==0.6.8->interpret) (3.10.0)\n",
      "Requirement already satisfied: pywin32>=300 in c:\\users\\achakkirala\\appdata\\local\\miniconda3\\lib\\site-packages (from jupyter-core!=5.0.*,>=4.12->ipykernel>=4.10.0->interpret-core[aplr,dash,debug,linear,notebook,plotly,sensitivity,shap]==0.6.8->interpret) (308)\n",
      "Requirement already satisfied: contourpy>=1.0.1 in c:\\users\\achakkirala\\appdata\\local\\miniconda3\\lib\\site-packages (from matplotlib>=3.5->SALib>=1.3.3->interpret-core[aplr,dash,debug,linear,notebook,plotly,sensitivity,shap]==0.6.8->interpret) (1.3.1)\n",
      "Requirement already satisfied: cycler>=0.10 in c:\\users\\achakkirala\\appdata\\local\\miniconda3\\lib\\site-packages (from matplotlib>=3.5->SALib>=1.3.3->interpret-core[aplr,dash,debug,linear,notebook,plotly,sensitivity,shap]==0.6.8->interpret) (0.12.1)\n",
      "Requirement already satisfied: fonttools>=4.22.0 in c:\\users\\achakkirala\\appdata\\local\\miniconda3\\lib\\site-packages (from matplotlib>=3.5->SALib>=1.3.3->interpret-core[aplr,dash,debug,linear,notebook,plotly,sensitivity,shap]==0.6.8->interpret) (4.55.3)\n",
      "Requirement already satisfied: kiwisolver>=1.3.1 in c:\\users\\achakkirala\\appdata\\local\\miniconda3\\lib\\site-packages (from matplotlib>=3.5->SALib>=1.3.3->interpret-core[aplr,dash,debug,linear,notebook,plotly,sensitivity,shap]==0.6.8->interpret) (1.4.8)\n",
      "Requirement already satisfied: pillow>=8 in c:\\users\\achakkirala\\appdata\\local\\miniconda3\\lib\\site-packages (from matplotlib>=3.5->SALib>=1.3.3->interpret-core[aplr,dash,debug,linear,notebook,plotly,sensitivity,shap]==0.6.8->interpret) (11.0.0)\n",
      "Requirement already satisfied: pyparsing>=2.3.1 in c:\\users\\achakkirala\\appdata\\local\\miniconda3\\lib\\site-packages (from matplotlib>=3.5->SALib>=1.3.3->interpret-core[aplr,dash,debug,linear,notebook,plotly,sensitivity,shap]==0.6.8->interpret) (3.2.0)\n",
      "Requirement already satisfied: wcwidth in c:\\users\\achakkirala\\appdata\\local\\miniconda3\\lib\\site-packages (from prompt_toolkit<3.1.0,>=3.0.41->ipython>=5.5.0->interpret-core[aplr,dash,debug,linear,notebook,plotly,sensitivity,shap]==0.6.8->interpret) (0.2.13)\n",
      "Requirement already satisfied: six>=1.5 in c:\\users\\achakkirala\\appdata\\local\\miniconda3\\lib\\site-packages (from python-dateutil>=2.8.2->pandas>=0.19.2->interpret-core==0.6.8->interpret-core[aplr,dash,debug,linear,notebook,plotly,sensitivity,shap]==0.6.8->interpret) (1.16.0)\n",
      "Requirement already satisfied: MarkupSafe>=2.1.1 in c:\\users\\achakkirala\\appdata\\local\\miniconda3\\lib\\site-packages (from Werkzeug<3.1->dash>=1.0.0->interpret-core[aplr,dash,debug,linear,notebook,plotly,sensitivity,shap]==0.6.8->interpret) (3.0.2)\n",
      "Requirement already satisfied: zipp>=3.20 in c:\\users\\achakkirala\\appdata\\local\\miniconda3\\lib\\site-packages (from importlib-metadata->dash>=1.0.0->interpret-core[aplr,dash,debug,linear,notebook,plotly,sensitivity,shap]==0.6.8->interpret) (3.21.0)\n",
      "Requirement already satisfied: llvmlite<0.44,>=0.43.0dev0 in c:\\users\\achakkirala\\appdata\\local\\miniconda3\\lib\\site-packages (from numba->shap>=0.28.5->interpret-core[aplr,dash,debug,linear,notebook,plotly,sensitivity,shap]==0.6.8->interpret) (0.43.0)\n",
      "Requirement already satisfied: executing>=1.2.0 in c:\\users\\achakkirala\\appdata\\local\\miniconda3\\lib\\site-packages (from stack_data->ipython>=5.5.0->interpret-core[aplr,dash,debug,linear,notebook,plotly,sensitivity,shap]==0.6.8->interpret) (2.1.0)\n",
      "Requirement already satisfied: asttokens>=2.1.0 in c:\\users\\achakkirala\\appdata\\local\\miniconda3\\lib\\site-packages (from stack_data->ipython>=5.5.0->interpret-core[aplr,dash,debug,linear,notebook,plotly,sensitivity,shap]==0.6.8->interpret) (3.0.0)\n",
      "Requirement already satisfied: pure-eval in c:\\users\\achakkirala\\appdata\\local\\miniconda3\\lib\\site-packages (from stack_data->ipython>=5.5.0->interpret-core[aplr,dash,debug,linear,notebook,plotly,sensitivity,shap]==0.6.8->interpret) (0.2.3)\n"
     ]
    }
   ],
   "source": [
    "\n",
    "!pip install interpret"
   ]
  },
  {
   "cell_type": "code",
   "execution_count": 2,
   "metadata": {},
   "outputs": [
    {
     "name": "stdout",
     "output_type": "stream",
     "text": [
      "Requirement already satisfied: datasets in c:\\users\\achakkirala\\appdata\\local\\miniconda3\\lib\\site-packages (3.2.0)\n",
      "Requirement already satisfied: filelock in c:\\users\\achakkirala\\appdata\\local\\miniconda3\\lib\\site-packages (from datasets) (3.16.1)\n",
      "Requirement already satisfied: numpy>=1.17 in c:\\users\\achakkirala\\appdata\\local\\miniconda3\\lib\\site-packages (from datasets) (2.0.0)\n",
      "Requirement already satisfied: pyarrow>=15.0.0 in c:\\users\\achakkirala\\appdata\\local\\miniconda3\\lib\\site-packages (from datasets) (18.1.0)\n",
      "Requirement already satisfied: dill<0.3.9,>=0.3.0 in c:\\users\\achakkirala\\appdata\\local\\miniconda3\\lib\\site-packages (from datasets) (0.3.8)\n",
      "Requirement already satisfied: pandas in c:\\users\\achakkirala\\appdata\\local\\miniconda3\\lib\\site-packages (from datasets) (2.2.2)\n",
      "Requirement already satisfied: requests>=2.32.2 in c:\\users\\achakkirala\\appdata\\local\\miniconda3\\lib\\site-packages (from datasets) (2.32.3)\n",
      "Requirement already satisfied: tqdm>=4.66.3 in c:\\users\\achakkirala\\appdata\\local\\miniconda3\\lib\\site-packages (from datasets) (4.67.1)\n",
      "Requirement already satisfied: xxhash in c:\\users\\achakkirala\\appdata\\local\\miniconda3\\lib\\site-packages (from datasets) (3.5.0)\n",
      "Requirement already satisfied: multiprocess<0.70.17 in c:\\users\\achakkirala\\appdata\\local\\miniconda3\\lib\\site-packages (from datasets) (0.70.16)\n",
      "Requirement already satisfied: fsspec<=2024.9.0,>=2023.1.0 in c:\\users\\achakkirala\\appdata\\local\\miniconda3\\lib\\site-packages (from fsspec[http]<=2024.9.0,>=2023.1.0->datasets) (2024.9.0)\n",
      "Requirement already satisfied: aiohttp in c:\\users\\achakkirala\\appdata\\local\\miniconda3\\lib\\site-packages (from datasets) (3.11.11)\n",
      "Requirement already satisfied: huggingface-hub>=0.23.0 in c:\\users\\achakkirala\\appdata\\local\\miniconda3\\lib\\site-packages (from datasets) (0.27.0)\n",
      "Requirement already satisfied: packaging in c:\\users\\achakkirala\\appdata\\local\\miniconda3\\lib\\site-packages (from datasets) (23.2)\n",
      "Requirement already satisfied: pyyaml>=5.1 in c:\\users\\achakkirala\\appdata\\local\\miniconda3\\lib\\site-packages (from datasets) (6.0.2)\n",
      "Requirement already satisfied: aiohappyeyeballs>=2.3.0 in c:\\users\\achakkirala\\appdata\\local\\miniconda3\\lib\\site-packages (from aiohttp->datasets) (2.4.4)\n",
      "Requirement already satisfied: aiosignal>=1.1.2 in c:\\users\\achakkirala\\appdata\\local\\miniconda3\\lib\\site-packages (from aiohttp->datasets) (1.3.2)\n",
      "Requirement already satisfied: attrs>=17.3.0 in c:\\users\\achakkirala\\appdata\\local\\miniconda3\\lib\\site-packages (from aiohttp->datasets) (24.3.0)\n",
      "Requirement already satisfied: frozenlist>=1.1.1 in c:\\users\\achakkirala\\appdata\\local\\miniconda3\\lib\\site-packages (from aiohttp->datasets) (1.5.0)\n",
      "Requirement already satisfied: multidict<7.0,>=4.5 in c:\\users\\achakkirala\\appdata\\local\\miniconda3\\lib\\site-packages (from aiohttp->datasets) (6.1.0)\n",
      "Requirement already satisfied: propcache>=0.2.0 in c:\\users\\achakkirala\\appdata\\local\\miniconda3\\lib\\site-packages (from aiohttp->datasets) (0.2.1)\n",
      "Requirement already satisfied: yarl<2.0,>=1.17.0 in c:\\users\\achakkirala\\appdata\\local\\miniconda3\\lib\\site-packages (from aiohttp->datasets) (1.18.3)\n",
      "Requirement already satisfied: typing-extensions>=3.7.4.3 in c:\\users\\achakkirala\\appdata\\local\\miniconda3\\lib\\site-packages (from huggingface-hub>=0.23.0->datasets) (4.12.2)\n",
      "Requirement already satisfied: charset-normalizer<4,>=2 in c:\\users\\achakkirala\\appdata\\local\\miniconda3\\lib\\site-packages (from requests>=2.32.2->datasets) (2.0.4)\n",
      "Requirement already satisfied: idna<4,>=2.5 in c:\\users\\achakkirala\\appdata\\local\\miniconda3\\lib\\site-packages (from requests>=2.32.2->datasets) (3.4)\n",
      "Requirement already satisfied: urllib3<3,>=1.21.1 in c:\\users\\achakkirala\\appdata\\local\\miniconda3\\lib\\site-packages (from requests>=2.32.2->datasets) (2.1.0)\n",
      "Requirement already satisfied: certifi>=2017.4.17 in c:\\users\\achakkirala\\appdata\\local\\miniconda3\\lib\\site-packages (from requests>=2.32.2->datasets) (2024.12.14)\n",
      "Requirement already satisfied: colorama in c:\\users\\achakkirala\\appdata\\local\\miniconda3\\lib\\site-packages (from tqdm>=4.66.3->datasets) (0.4.6)\n",
      "Requirement already satisfied: python-dateutil>=2.8.2 in c:\\users\\achakkirala\\appdata\\local\\miniconda3\\lib\\site-packages (from pandas->datasets) (2.9.0.post0)\n",
      "Requirement already satisfied: pytz>=2020.1 in c:\\users\\achakkirala\\appdata\\local\\miniconda3\\lib\\site-packages (from pandas->datasets) (2024.1)\n",
      "Requirement already satisfied: tzdata>=2022.7 in c:\\users\\achakkirala\\appdata\\local\\miniconda3\\lib\\site-packages (from pandas->datasets) (2024.1)\n",
      "Requirement already satisfied: six>=1.5 in c:\\users\\achakkirala\\appdata\\local\\miniconda3\\lib\\site-packages (from python-dateutil>=2.8.2->pandas->datasets) (1.16.0)\n"
     ]
    }
   ],
   "source": [
    "!pip install datasets"
   ]
  },
  {
   "cell_type": "markdown",
   "metadata": {},
   "source": [
    "#### EBM Classifier from the InterpretML library\n",
    "\n",
    "**Load the huggingface credit-card dataset, split the dataset and train the EBM Classifier, finally use the model for predictions on the test data**"
   ]
  },
  {
   "cell_type": "code",
   "execution_count": 7,
   "metadata": {},
   "outputs": [
    {
     "name": "stderr",
     "output_type": "stream",
     "text": [
      "Using the latest cached version of the dataset since imodels/credit-card couldn't be found on the Hugging Face Hub\n",
      "Found the latest cached dataset configuration 'default' at C:\\Users\\achakkirala\\.cache\\huggingface\\datasets\\imodels___credit-card\\default\\0.0.0\\aa2d71d4fb7c056745552c6b401f626e601f22a4 (last modified on Thu May  9 21:49:16 2024).\n"
     ]
    }
   ],
   "source": [
    "# Import necessary libraries\n",
    "from datasets import load_dataset\n",
    "from sklearn.model_selection import train_test_split\n",
    "from interpret.glassbox import ExplainableBoostingClassifier\n",
    "import pandas as pd\n",
    "\n",
    "# Load the credit-card dataset\n",
    "#If loading fails, use “https://huggingface.co/datasets”\n",
    "dataset = load_dataset('imodels/credit-card')\n",
    "df = pd.DataFrame(dataset['train'])\n",
    "\n",
    "# Split the dataset into features (X) and target (y)\n",
    "X = df.drop(columns='default.payment.next.month')\n",
    "y = df['default.payment.next.month'].values\n",
    "\n",
    "# Split the data into training and testing sets\n",
    "X_train, X_test, y_train, y_test = train_test_split(X, y, test_size=0.2, random_state=42)\n",
    "\n",
    "# Create an EBM classifier\n",
    "ebm = ExplainableBoostingClassifier(random_state=42)\n",
    "\n",
    "# Train the classifier\n",
    "ebm.fit(X_train, y_train)\n",
    "y_pred = ebm.predict(X_test)\n",
    "\n"
   ]
  },
  {
   "cell_type": "markdown",
   "metadata": {},
   "source": [
    "**The AUC and accuracy metrics for the predictions are computed and displayed**"
   ]
  },
  {
   "cell_type": "code",
   "execution_count": 8,
   "metadata": {},
   "outputs": [
    {
     "name": "stdout",
     "output_type": "stream",
     "text": [
      "AUC: 0.779\n",
      "Accuracy: 0.815\n"
     ]
    }
   ],
   "source": [
    "from sklearn.metrics import roc_auc_score, accuracy_score\n",
    "\n",
    "auc = roc_auc_score(y_test, ebm.predict_proba(X_test)[:, 1])\n",
    "accuracy = accuracy_score(y_test, y_pred)\n",
    "print(\"AUC: {:.3f}\".format(auc))\n",
    "print(\"Accuracy: {:.3f}\".format(accuracy))"
   ]
  },
  {
   "cell_type": "markdown",
   "metadata": {},
   "source": [
    "**Using the EBM's inbuilt explain module to get global explanations**"
   ]
  },
  {
   "cell_type": "code",
   "execution_count": 9,
   "metadata": {},
   "outputs": [
    {
     "data": {
      "text/html": [
       "<!-- http://127.0.0.1:7001/1721565650272/ -->\n",
       "<iframe src=\"http://127.0.0.1:7001/1721565650272/\" width=100% height=800 frameBorder=\"0\"></iframe>"
      ]
     },
     "metadata": {},
     "output_type": "display_data"
    }
   ],
   "source": [
    "from interpret import show\n",
    "\n",
    "show(ebm.explain_global())"
   ]
  },
  {
   "cell_type": "markdown",
   "metadata": {},
   "source": [
    "**Using the EBM's inbuilt explain module to get local explanations**"
   ]
  },
  {
   "cell_type": "code",
   "execution_count": 10,
   "metadata": {},
   "outputs": [
    {
     "data": {
      "text/html": [
       "<!-- http://127.0.0.1:7001/1721567863712/ -->\n",
       "<iframe src=\"http://127.0.0.1:7001/1721567863712/\" width=100% height=800 frameBorder=\"0\"></iframe>"
      ]
     },
     "metadata": {},
     "output_type": "display_data"
    }
   ],
   "source": [
    "show(ebm.explain_local(X_test[:5], y_test[:5]), 0)"
   ]
  },
  {
   "cell_type": "markdown",
   "metadata": {},
   "source": [
    "The graphs are interactive and can be use to derive the insights required. "
   ]
  }
 ],
 "metadata": {
  "kernelspec": {
   "display_name": "env-02",
   "language": "python",
   "name": "python3"
  },
  "language_info": {
   "codemirror_mode": {
    "name": "ipython",
    "version": 3
   },
   "file_extension": ".py",
   "mimetype": "text/x-python",
   "name": "python",
   "nbconvert_exporter": "python",
   "pygments_lexer": "ipython3",
   "version": "3.9.19"
  }
 },
 "nbformat": 4,
 "nbformat_minor": 2
}
