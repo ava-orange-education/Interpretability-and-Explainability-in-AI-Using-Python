{
 "cells": [
  {
   "cell_type": "markdown",
   "metadata": {},
   "source": [
    "## Chapter 3\n",
    "\n",
    "### Inherently Interpretable Models - Glassbox models\n",
    "#### Here we will look at some of the Inherently Interpretable model\n",
    "\n",
    "##### In this example of KNearestNeighbor Classifier model, we will look at the interpretability aspect visible in the model.\n",
    "\n",
    "**Supervised Learning - K Nearest Neighbor Classifier**\n",
    "\n",
    "We use the iris dataset from sklearn. <br>\n",
    "\n",
    "This is a Classification problem and we will use a K Nearest  to classify the iris dataset into flower classes. Explainability is inbuilt into this model as the distance element can be viewed in the visualization <br>\n",
    "\n",
    "\n",
    "We are using the iris datasets from sklearn. More details on the dataset can be found here <br>\n",
    "https://scikit-learn.org/1.5/auto_examples/datasets/plot_iris_dataset.html\n",
    "\n",
    "\n"
   ]
  },
  {
   "cell_type": "markdown",
   "metadata": {},
   "source": [
    "Features: Sepal Length, Sepal Width, Petal Length and Petal Width."
   ]
  },
  {
   "cell_type": "markdown",
   "metadata": {},
   "source": [
    "**Import the required libraries**"
   ]
  },
  {
   "cell_type": "code",
   "execution_count": 1,
   "metadata": {},
   "outputs": [
    {
     "name": "stdout",
     "output_type": "stream",
     "text": [
      "Requirement already satisfied: datasets in c:\\users\\achakkirala\\appdata\\local\\miniconda3\\lib\\site-packages (3.2.0)\n",
      "Requirement already satisfied: matplotlib in c:\\users\\achakkirala\\appdata\\local\\miniconda3\\lib\\site-packages (3.10.0)\n",
      "Requirement already satisfied: filelock in c:\\users\\achakkirala\\appdata\\local\\miniconda3\\lib\\site-packages (from datasets) (3.16.1)\n",
      "Requirement already satisfied: numpy>=1.17 in c:\\users\\achakkirala\\appdata\\local\\miniconda3\\lib\\site-packages (from datasets) (2.0.0)\n",
      "Requirement already satisfied: pyarrow>=15.0.0 in c:\\users\\achakkirala\\appdata\\local\\miniconda3\\lib\\site-packages (from datasets) (18.1.0)\n",
      "Requirement already satisfied: dill<0.3.9,>=0.3.0 in c:\\users\\achakkirala\\appdata\\local\\miniconda3\\lib\\site-packages (from datasets) (0.3.8)\n",
      "Requirement already satisfied: pandas in c:\\users\\achakkirala\\appdata\\local\\miniconda3\\lib\\site-packages (from datasets) (2.2.2)\n",
      "Requirement already satisfied: requests>=2.32.2 in c:\\users\\achakkirala\\appdata\\local\\miniconda3\\lib\\site-packages (from datasets) (2.32.3)\n",
      "Requirement already satisfied: tqdm>=4.66.3 in c:\\users\\achakkirala\\appdata\\local\\miniconda3\\lib\\site-packages (from datasets) (4.67.1)\n",
      "Requirement already satisfied: xxhash in c:\\users\\achakkirala\\appdata\\local\\miniconda3\\lib\\site-packages (from datasets) (3.5.0)\n",
      "Requirement already satisfied: multiprocess<0.70.17 in c:\\users\\achakkirala\\appdata\\local\\miniconda3\\lib\\site-packages (from datasets) (0.70.16)\n",
      "Requirement already satisfied: fsspec<=2024.9.0,>=2023.1.0 in c:\\users\\achakkirala\\appdata\\local\\miniconda3\\lib\\site-packages (from fsspec[http]<=2024.9.0,>=2023.1.0->datasets) (2024.9.0)\n",
      "Requirement already satisfied: aiohttp in c:\\users\\achakkirala\\appdata\\local\\miniconda3\\lib\\site-packages (from datasets) (3.11.11)\n",
      "Requirement already satisfied: huggingface-hub>=0.23.0 in c:\\users\\achakkirala\\appdata\\local\\miniconda3\\lib\\site-packages (from datasets) (0.27.0)\n",
      "Requirement already satisfied: packaging in c:\\users\\achakkirala\\appdata\\local\\miniconda3\\lib\\site-packages (from datasets) (23.2)\n",
      "Requirement already satisfied: pyyaml>=5.1 in c:\\users\\achakkirala\\appdata\\local\\miniconda3\\lib\\site-packages (from datasets) (6.0.2)\n",
      "Requirement already satisfied: contourpy>=1.0.1 in c:\\users\\achakkirala\\appdata\\local\\miniconda3\\lib\\site-packages (from matplotlib) (1.3.1)\n",
      "Requirement already satisfied: cycler>=0.10 in c:\\users\\achakkirala\\appdata\\local\\miniconda3\\lib\\site-packages (from matplotlib) (0.12.1)\n",
      "Requirement already satisfied: fonttools>=4.22.0 in c:\\users\\achakkirala\\appdata\\local\\miniconda3\\lib\\site-packages (from matplotlib) (4.55.3)\n",
      "Requirement already satisfied: kiwisolver>=1.3.1 in c:\\users\\achakkirala\\appdata\\local\\miniconda3\\lib\\site-packages (from matplotlib) (1.4.8)\n",
      "Requirement already satisfied: pillow>=8 in c:\\users\\achakkirala\\appdata\\local\\miniconda3\\lib\\site-packages (from matplotlib) (11.0.0)\n",
      "Requirement already satisfied: pyparsing>=2.3.1 in c:\\users\\achakkirala\\appdata\\local\\miniconda3\\lib\\site-packages (from matplotlib) (3.2.0)\n",
      "Requirement already satisfied: python-dateutil>=2.7 in c:\\users\\achakkirala\\appdata\\local\\miniconda3\\lib\\site-packages (from matplotlib) (2.9.0.post0)\n",
      "Requirement already satisfied: aiohappyeyeballs>=2.3.0 in c:\\users\\achakkirala\\appdata\\local\\miniconda3\\lib\\site-packages (from aiohttp->datasets) (2.4.4)\n",
      "Requirement already satisfied: aiosignal>=1.1.2 in c:\\users\\achakkirala\\appdata\\local\\miniconda3\\lib\\site-packages (from aiohttp->datasets) (1.3.2)\n",
      "Requirement already satisfied: attrs>=17.3.0 in c:\\users\\achakkirala\\appdata\\local\\miniconda3\\lib\\site-packages (from aiohttp->datasets) (24.3.0)\n",
      "Requirement already satisfied: frozenlist>=1.1.1 in c:\\users\\achakkirala\\appdata\\local\\miniconda3\\lib\\site-packages (from aiohttp->datasets) (1.5.0)\n",
      "Requirement already satisfied: multidict<7.0,>=4.5 in c:\\users\\achakkirala\\appdata\\local\\miniconda3\\lib\\site-packages (from aiohttp->datasets) (6.1.0)\n",
      "Requirement already satisfied: propcache>=0.2.0 in c:\\users\\achakkirala\\appdata\\local\\miniconda3\\lib\\site-packages (from aiohttp->datasets) (0.2.1)\n",
      "Requirement already satisfied: yarl<2.0,>=1.17.0 in c:\\users\\achakkirala\\appdata\\local\\miniconda3\\lib\\site-packages (from aiohttp->datasets) (1.18.3)\n",
      "Requirement already satisfied: typing-extensions>=3.7.4.3 in c:\\users\\achakkirala\\appdata\\local\\miniconda3\\lib\\site-packages (from huggingface-hub>=0.23.0->datasets) (4.12.2)\n",
      "Requirement already satisfied: six>=1.5 in c:\\users\\achakkirala\\appdata\\local\\miniconda3\\lib\\site-packages (from python-dateutil>=2.7->matplotlib) (1.16.0)\n",
      "Requirement already satisfied: charset-normalizer<4,>=2 in c:\\users\\achakkirala\\appdata\\local\\miniconda3\\lib\\site-packages (from requests>=2.32.2->datasets) (2.0.4)\n",
      "Requirement already satisfied: idna<4,>=2.5 in c:\\users\\achakkirala\\appdata\\local\\miniconda3\\lib\\site-packages (from requests>=2.32.2->datasets) (3.4)\n",
      "Requirement already satisfied: urllib3<3,>=1.21.1 in c:\\users\\achakkirala\\appdata\\local\\miniconda3\\lib\\site-packages (from requests>=2.32.2->datasets) (2.1.0)\n",
      "Requirement already satisfied: certifi>=2017.4.17 in c:\\users\\achakkirala\\appdata\\local\\miniconda3\\lib\\site-packages (from requests>=2.32.2->datasets) (2024.12.14)\n",
      "Requirement already satisfied: colorama in c:\\users\\achakkirala\\appdata\\local\\miniconda3\\lib\\site-packages (from tqdm>=4.66.3->datasets) (0.4.6)\n",
      "Requirement already satisfied: pytz>=2020.1 in c:\\users\\achakkirala\\appdata\\local\\miniconda3\\lib\\site-packages (from pandas->datasets) (2024.1)\n",
      "Requirement already satisfied: tzdata>=2022.7 in c:\\users\\achakkirala\\appdata\\local\\miniconda3\\lib\\site-packages (from pandas->datasets) (2024.1)\n"
     ]
    }
   ],
   "source": [
    "!pip install datasets matplotlib"
   ]
  },
  {
   "cell_type": "code",
   "execution_count": 2,
   "metadata": {},
   "outputs": [
    {
     "name": "stdout",
     "output_type": "stream",
     "text": [
      "Collecting mlxtend\n",
      "  Downloading mlxtend-0.23.3-py3-none-any.whl.metadata (7.3 kB)\n",
      "Requirement already satisfied: scipy>=1.2.1 in c:\\users\\achakkirala\\appdata\\local\\miniconda3\\lib\\site-packages (from mlxtend) (1.13.1)\n",
      "Requirement already satisfied: numpy>=1.16.2 in c:\\users\\achakkirala\\appdata\\local\\miniconda3\\lib\\site-packages (from mlxtend) (2.0.0)\n",
      "Requirement already satisfied: pandas>=0.24.2 in c:\\users\\achakkirala\\appdata\\local\\miniconda3\\lib\\site-packages (from mlxtend) (2.2.2)\n",
      "Requirement already satisfied: scikit-learn>=1.3.1 in c:\\users\\achakkirala\\appdata\\local\\miniconda3\\lib\\site-packages (from mlxtend) (1.5.0)\n",
      "Requirement already satisfied: matplotlib>=3.0.0 in c:\\users\\achakkirala\\appdata\\local\\miniconda3\\lib\\site-packages (from mlxtend) (3.10.0)\n",
      "Requirement already satisfied: joblib>=0.13.2 in c:\\users\\achakkirala\\appdata\\local\\miniconda3\\lib\\site-packages (from mlxtend) (1.4.2)\n",
      "Requirement already satisfied: contourpy>=1.0.1 in c:\\users\\achakkirala\\appdata\\local\\miniconda3\\lib\\site-packages (from matplotlib>=3.0.0->mlxtend) (1.3.1)\n",
      "Requirement already satisfied: cycler>=0.10 in c:\\users\\achakkirala\\appdata\\local\\miniconda3\\lib\\site-packages (from matplotlib>=3.0.0->mlxtend) (0.12.1)\n",
      "Requirement already satisfied: fonttools>=4.22.0 in c:\\users\\achakkirala\\appdata\\local\\miniconda3\\lib\\site-packages (from matplotlib>=3.0.0->mlxtend) (4.55.3)\n",
      "Requirement already satisfied: kiwisolver>=1.3.1 in c:\\users\\achakkirala\\appdata\\local\\miniconda3\\lib\\site-packages (from matplotlib>=3.0.0->mlxtend) (1.4.8)\n",
      "Requirement already satisfied: packaging>=20.0 in c:\\users\\achakkirala\\appdata\\local\\miniconda3\\lib\\site-packages (from matplotlib>=3.0.0->mlxtend) (23.2)\n",
      "Requirement already satisfied: pillow>=8 in c:\\users\\achakkirala\\appdata\\local\\miniconda3\\lib\\site-packages (from matplotlib>=3.0.0->mlxtend) (11.0.0)\n",
      "Requirement already satisfied: pyparsing>=2.3.1 in c:\\users\\achakkirala\\appdata\\local\\miniconda3\\lib\\site-packages (from matplotlib>=3.0.0->mlxtend) (3.2.0)\n",
      "Requirement already satisfied: python-dateutil>=2.7 in c:\\users\\achakkirala\\appdata\\local\\miniconda3\\lib\\site-packages (from matplotlib>=3.0.0->mlxtend) (2.9.0.post0)\n",
      "Requirement already satisfied: pytz>=2020.1 in c:\\users\\achakkirala\\appdata\\local\\miniconda3\\lib\\site-packages (from pandas>=0.24.2->mlxtend) (2024.1)\n",
      "Requirement already satisfied: tzdata>=2022.7 in c:\\users\\achakkirala\\appdata\\local\\miniconda3\\lib\\site-packages (from pandas>=0.24.2->mlxtend) (2024.1)\n",
      "Requirement already satisfied: threadpoolctl>=3.1.0 in c:\\users\\achakkirala\\appdata\\local\\miniconda3\\lib\\site-packages (from scikit-learn>=1.3.1->mlxtend) (3.5.0)\n",
      "Requirement already satisfied: six>=1.5 in c:\\users\\achakkirala\\appdata\\local\\miniconda3\\lib\\site-packages (from python-dateutil>=2.7->matplotlib>=3.0.0->mlxtend) (1.16.0)\n",
      "Downloading mlxtend-0.23.3-py3-none-any.whl (1.4 MB)\n",
      "   ---------------------------------------- 0.0/1.4 MB ? eta -:--:--\n",
      "   --------------- ------------------------ 0.5/1.4 MB 3.4 MB/s eta 0:00:01\n",
      "   ---------------------------------------- 1.4/1.4 MB 4.4 MB/s eta 0:00:00\n",
      "Installing collected packages: mlxtend\n",
      "Successfully installed mlxtend-0.23.3\n"
     ]
    }
   ],
   "source": [
    "!pip install mlxtend"
   ]
  },
  {
   "cell_type": "markdown",
   "metadata": {},
   "source": [
    "**Load the dataset and using the KNearest Classifier fit the data with k set to 2**"
   ]
  },
  {
   "cell_type": "code",
   "execution_count": 3,
   "metadata": {},
   "outputs": [
    {
     "name": "stdout",
     "output_type": "stream",
     "text": [
      "  (0, 17)\t1.0\n",
      "  (0, 0)\t1.0\n",
      "  (1, 37)\t1.0\n",
      "  (1, 1)\t1.0\n",
      "  (2, 2)\t1.0\n",
      "  (2, 12)\t1.0\n",
      "  (3, 3)\t1.0\n",
      "  (3, 6)\t1.0\n",
      "  (4, 49)\t1.0\n",
      "  (4, 4)\t1.0\n",
      "  (5, 20)\t1.0\n",
      "  (5, 5)\t1.0\n",
      "  (6, 47)\t1.0\n",
      "  (6, 6)\t1.0\n",
      "  (7, 7)\t1.0\n",
      "  (7, 9)\t1.0\n",
      "  (8, 8)\t1.0\n",
      "  (8, 38)\t1.0\n",
      "  (9, 34)\t1.0\n",
      "  (9, 9)\t1.0\n",
      "  (10, 31)\t1.0\n",
      "  (10, 10)\t1.0\n",
      "  (11, 30)\t1.0\n",
      "  (11, 11)\t1.0\n",
      "  (12, 45)\t1.0\n",
      "  :\t:\n",
      "  (137, 128)\t1.0\n",
      "  (138, 138)\t1.0\n",
      "  (138, 70)\t1.0\n",
      "  (139, 139)\t1.0\n",
      "  (139, 112)\t1.0\n",
      "  (140, 140)\t1.0\n",
      "  (140, 124)\t1.0\n",
      "  (141, 141)\t1.0\n",
      "  (141, 52)\t1.0\n",
      "  (142, 142)\t1.0\n",
      "  (142, 101)\t1.0\n",
      "  (143, 143)\t1.0\n",
      "  (143, 108)\t1.0\n",
      "  (144, 144)\t1.0\n",
      "  (144, 124)\t1.0\n",
      "  (145, 145)\t1.0\n",
      "  (145, 147)\t1.0\n",
      "  (146, 146)\t1.0\n",
      "  (146, 123)\t1.0\n",
      "  (147, 147)\t1.0\n",
      "  (147, 110)\t1.0\n",
      "  (148, 148)\t1.0\n",
      "  (148, 103)\t1.0\n",
      "  (149, 149)\t1.0\n",
      "  (149, 83)\t1.0\n"
     ]
    }
   ],
   "source": [
    "# Import necessary libraries\n",
    "from datasets import load_dataset\n",
    "from sklearn.datasets import load_iris\n",
    "from sklearn.neighbors import KNeighborsClassifier\n",
    "import matplotlib.pyplot as plt\n",
    "import pandas as pd\n",
    "from mlxtend.plotting import plot_decision_regions\n",
    "\n",
    "# Load the iris dataset\n",
    "iris_data = load_iris()\n",
    "\n",
    "\n",
    "X = iris_data.data[:,[0,2]]\n",
    "y = iris_data.target\n",
    "\n",
    "k=2\n",
    "\n",
    "# Create a KNN classifier\n",
    "knn = KNeighborsClassifier(n_neighbors=k)\n",
    "\n",
    "# Train the classifier\n",
    "knn.fit(X, y)\n",
    "\n",
    "A = knn.kneighbors_graph(X)\n",
    "\n",
    "print(A)"
   ]
  },
  {
   "cell_type": "markdown",
   "metadata": {},
   "source": [
    "The value of 'k' determines the class for unseen data which is based on the k nearest neighbors"
   ]
  },
  {
   "cell_type": "markdown",
   "metadata": {},
   "source": [
    "**Plot the decision boundries for the classes on features Sepal length and petal length**"
   ]
  },
  {
   "cell_type": "code",
   "execution_count": 4,
   "metadata": {},
   "outputs": [
    {
     "data": {
      "image/png": "[encoded data removed]",
      "text/plain": [
       "<Figure size 640x480 with 1 Axes>"
      ]
     },
     "metadata": {},
     "output_type": "display_data"
    }
   ],
   "source": [
    "from mlxtend.plotting import plot_decision_regions\n",
    "import numpy as np\n",
    "\n",
    "\n",
    "# Plotting decision region\n",
    "plot_decision_regions(X, y, clf=knn, legend=2)\n",
    "# Adding axes annotations\n",
    "plt.xlabel('Sepal Length [cm]')\n",
    "plt.ylabel('Petal Length [cm]')\n",
    "plt.title('Knn with K='+ str(k))\n",
    "plt.show()"
   ]
  },
  {
   "cell_type": "markdown",
   "metadata": {},
   "source": [
    "Three classes of flowers are identified as can be seen above. It uses a distance metric for the classification, the default in the sklearn implementation used above is minkowski but that can be configured.\n",
    "\n",
    "https://scikit-learn.org/1.5/modules/generated/sklearn.neighbors.KNeighborsClassifier.html"
   ]
  },
  {
   "cell_type": "markdown",
   "metadata": {},
   "source": []
  }
 ],
 "metadata": {
  "kernelspec": {
   "display_name": "env-02",
   "language": "python",
   "name": "python3"
  },
  "language_info": {
   "codemirror_mode": {
    "name": "ipython",
    "version": 3
   },
   "file_extension": ".py",
   "mimetype": "text/x-python",
   "name": "python",
   "nbconvert_exporter": "python",
   "pygments_lexer": "ipython3",
   "version": "3.9.19"
  }
 },
 "nbformat": 4,
 "nbformat_minor": 2
}
